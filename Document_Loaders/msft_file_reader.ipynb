{
 "cells": [
  {
   "cell_type": "code",
   "execution_count": 3,
   "id": "67c2359b",
   "metadata": {},
   "outputs": [
    {
     "name": "stdout",
     "output_type": "stream",
     "text": [
      "Requirement already satisfied: nltk in /opt/anaconda3/envs/ml/lib/python3.12/site-packages (3.9.1)\n",
      "Requirement already satisfied: click in /opt/anaconda3/envs/ml/lib/python3.12/site-packages (from nltk) (8.2.1)\n",
      "Requirement already satisfied: joblib in /opt/anaconda3/envs/ml/lib/python3.12/site-packages (from nltk) (1.5.1)\n",
      "Requirement already satisfied: regex>=2021.8.3 in /opt/anaconda3/envs/ml/lib/python3.12/site-packages (from nltk) (2024.11.6)\n",
      "Requirement already satisfied: tqdm in /opt/anaconda3/envs/ml/lib/python3.12/site-packages (from nltk) (4.67.1)\n",
      "Requirement already satisfied: unstructured[all-docs] in /opt/anaconda3/envs/ml/lib/python3.12/site-packages (0.18.14)\n",
      "Requirement already satisfied: charset-normalizer in /opt/anaconda3/envs/ml/lib/python3.12/site-packages (from unstructured[all-docs]) (3.4.2)\n",
      "Requirement already satisfied: filetype in /opt/anaconda3/envs/ml/lib/python3.12/site-packages (from unstructured[all-docs]) (1.2.0)\n",
      "Requirement already satisfied: python-magic in /opt/anaconda3/envs/ml/lib/python3.12/site-packages (from unstructured[all-docs]) (0.4.27)\n",
      "Requirement already satisfied: lxml in /opt/anaconda3/envs/ml/lib/python3.12/site-packages (from unstructured[all-docs]) (5.4.0)\n",
      "Requirement already satisfied: nltk in /opt/anaconda3/envs/ml/lib/python3.12/site-packages (from unstructured[all-docs]) (3.9.1)\n",
      "Requirement already satisfied: requests in /opt/anaconda3/envs/ml/lib/python3.12/site-packages (from unstructured[all-docs]) (2.32.5)\n",
      "Requirement already satisfied: beautifulsoup4 in /opt/anaconda3/envs/ml/lib/python3.12/site-packages (from unstructured[all-docs]) (4.13.4)\n",
      "Requirement already satisfied: emoji in /opt/anaconda3/envs/ml/lib/python3.12/site-packages (from unstructured[all-docs]) (2.14.1)\n",
      "Requirement already satisfied: dataclasses-json in /opt/anaconda3/envs/ml/lib/python3.12/site-packages (from unstructured[all-docs]) (0.6.7)\n",
      "Requirement already satisfied: python-iso639 in /opt/anaconda3/envs/ml/lib/python3.12/site-packages (from unstructured[all-docs]) (2025.2.18)\n",
      "Requirement already satisfied: langdetect in /opt/anaconda3/envs/ml/lib/python3.12/site-packages (from unstructured[all-docs]) (1.0.9)\n",
      "Requirement already satisfied: numpy in /opt/anaconda3/envs/ml/lib/python3.12/site-packages (from unstructured[all-docs]) (2.2.6)\n",
      "Requirement already satisfied: rapidfuzz in /opt/anaconda3/envs/ml/lib/python3.12/site-packages (from unstructured[all-docs]) (3.14.0)\n",
      "Requirement already satisfied: backoff in /opt/anaconda3/envs/ml/lib/python3.12/site-packages (from unstructured[all-docs]) (2.2.1)\n",
      "Requirement already satisfied: typing-extensions in /opt/anaconda3/envs/ml/lib/python3.12/site-packages (from unstructured[all-docs]) (4.14.0)\n",
      "Requirement already satisfied: unstructured-client in /opt/anaconda3/envs/ml/lib/python3.12/site-packages (from unstructured[all-docs]) (0.42.3)\n",
      "Requirement already satisfied: wrapt in /opt/anaconda3/envs/ml/lib/python3.12/site-packages (from unstructured[all-docs]) (1.17.3)\n",
      "Requirement already satisfied: tqdm in /opt/anaconda3/envs/ml/lib/python3.12/site-packages (from unstructured[all-docs]) (4.67.1)\n",
      "Requirement already satisfied: psutil in /opt/anaconda3/envs/ml/lib/python3.12/site-packages (from unstructured[all-docs]) (5.9.0)\n",
      "Requirement already satisfied: python-oxmsg in /opt/anaconda3/envs/ml/lib/python3.12/site-packages (from unstructured[all-docs]) (0.0.2)\n",
      "Requirement already satisfied: html5lib in /opt/anaconda3/envs/ml/lib/python3.12/site-packages (from unstructured[all-docs]) (1.1)\n",
      "Requirement already satisfied: msoffcrypto-tool in /opt/anaconda3/envs/ml/lib/python3.12/site-packages (from unstructured[all-docs]) (5.4.2)\n",
      "Requirement already satisfied: xlrd in /opt/anaconda3/envs/ml/lib/python3.12/site-packages (from unstructured[all-docs]) (2.0.2)\n",
      "Requirement already satisfied: onnx>=1.17.0 in /opt/anaconda3/envs/ml/lib/python3.12/site-packages (from unstructured[all-docs]) (1.19.0)\n",
      "Requirement already satisfied: pdf2image in /opt/anaconda3/envs/ml/lib/python3.12/site-packages (from unstructured[all-docs]) (1.17.0)\n",
      "Requirement already satisfied: pi-heif in /opt/anaconda3/envs/ml/lib/python3.12/site-packages (from unstructured[all-docs]) (1.1.0)\n",
      "Requirement already satisfied: python-pptx>=1.0.1 in /opt/anaconda3/envs/ml/lib/python3.12/site-packages (from unstructured[all-docs]) (1.0.2)\n",
      "Requirement already satisfied: google-cloud-vision in /opt/anaconda3/envs/ml/lib/python3.12/site-packages (from unstructured[all-docs]) (3.10.2)\n",
      "Requirement already satisfied: onnxruntime>=1.19.0 in /opt/anaconda3/envs/ml/lib/python3.12/site-packages (from unstructured[all-docs]) (1.22.1)\n",
      "Requirement already satisfied: python-docx>=1.1.2 in /opt/anaconda3/envs/ml/lib/python3.12/site-packages (from unstructured[all-docs]) (1.2.0)\n",
      "Requirement already satisfied: unstructured.pytesseract>=0.3.12 in /opt/anaconda3/envs/ml/lib/python3.12/site-packages (from unstructured[all-docs]) (0.3.15)\n",
      "Requirement already satisfied: pdfminer.six in /opt/anaconda3/envs/ml/lib/python3.12/site-packages (from unstructured[all-docs]) (20250506)\n",
      "Requirement already satisfied: networkx in /opt/anaconda3/envs/ml/lib/python3.12/site-packages (from unstructured[all-docs]) (3.5)\n",
      "Requirement already satisfied: pypdf in /opt/anaconda3/envs/ml/lib/python3.12/site-packages (from unstructured[all-docs]) (6.0.0)\n",
      "Requirement already satisfied: pypandoc in /opt/anaconda3/envs/ml/lib/python3.12/site-packages (from unstructured[all-docs]) (1.15)\n",
      "Requirement already satisfied: openpyxl in /opt/anaconda3/envs/ml/lib/python3.12/site-packages (from unstructured[all-docs]) (3.1.5)\n",
      "Requirement already satisfied: effdet in /opt/anaconda3/envs/ml/lib/python3.12/site-packages (from unstructured[all-docs]) (0.4.1)\n",
      "Requirement already satisfied: unstructured-inference>=1.0.5 in /opt/anaconda3/envs/ml/lib/python3.12/site-packages (from unstructured[all-docs]) (1.0.5)\n",
      "Requirement already satisfied: pandas in /opt/anaconda3/envs/ml/lib/python3.12/site-packages (from unstructured[all-docs]) (2.3.0)\n",
      "Requirement already satisfied: pikepdf in /opt/anaconda3/envs/ml/lib/python3.12/site-packages (from unstructured[all-docs]) (9.10.2)\n",
      "Requirement already satisfied: markdown in /opt/anaconda3/envs/ml/lib/python3.12/site-packages (from unstructured[all-docs]) (3.9)\n",
      "Requirement already satisfied: protobuf>=4.25.1 in /opt/anaconda3/envs/ml/lib/python3.12/site-packages (from onnx>=1.17.0->unstructured[all-docs]) (5.29.5)\n",
      "Requirement already satisfied: ml_dtypes in /opt/anaconda3/envs/ml/lib/python3.12/site-packages (from onnx>=1.17.0->unstructured[all-docs]) (0.5.3)\n",
      "Requirement already satisfied: coloredlogs in /opt/anaconda3/envs/ml/lib/python3.12/site-packages (from onnxruntime>=1.19.0->unstructured[all-docs]) (15.0.1)\n",
      "Requirement already satisfied: flatbuffers in /opt/anaconda3/envs/ml/lib/python3.12/site-packages (from onnxruntime>=1.19.0->unstructured[all-docs]) (25.2.10)\n",
      "Requirement already satisfied: packaging in /opt/anaconda3/envs/ml/lib/python3.12/site-packages (from onnxruntime>=1.19.0->unstructured[all-docs]) (24.2)\n",
      "Requirement already satisfied: sympy in /opt/anaconda3/envs/ml/lib/python3.12/site-packages (from onnxruntime>=1.19.0->unstructured[all-docs]) (1.13.1)\n",
      "Requirement already satisfied: Pillow>=3.3.2 in /opt/anaconda3/envs/ml/lib/python3.12/site-packages (from python-pptx>=1.0.1->unstructured[all-docs]) (11.2.1)\n",
      "Requirement already satisfied: XlsxWriter>=0.5.7 in /opt/anaconda3/envs/ml/lib/python3.12/site-packages (from python-pptx>=1.0.1->unstructured[all-docs]) (3.2.5)\n",
      "Requirement already satisfied: python-multipart in /opt/anaconda3/envs/ml/lib/python3.12/site-packages (from unstructured-inference>=1.0.5->unstructured[all-docs]) (0.0.20)\n",
      "Requirement already satisfied: huggingface-hub in /opt/anaconda3/envs/ml/lib/python3.12/site-packages (from unstructured-inference>=1.0.5->unstructured[all-docs]) (0.25.1)\n",
      "Requirement already satisfied: opencv-python!=4.7.0.68 in /opt/anaconda3/envs/ml/lib/python3.12/site-packages (from unstructured-inference>=1.0.5->unstructured[all-docs]) (4.12.0.88)\n",
      "Requirement already satisfied: matplotlib in /opt/anaconda3/envs/ml/lib/python3.12/site-packages (from unstructured-inference>=1.0.5->unstructured[all-docs]) (3.10.5)\n",
      "Requirement already satisfied: torch in /opt/anaconda3/envs/ml/lib/python3.12/site-packages (from unstructured-inference>=1.0.5->unstructured[all-docs]) (2.5.1)\n",
      "Requirement already satisfied: timm in /opt/anaconda3/envs/ml/lib/python3.12/site-packages (from unstructured-inference>=1.0.5->unstructured[all-docs]) (1.0.19)\n",
      "Requirement already satisfied: transformers>=4.25.1 in /opt/anaconda3/envs/ml/lib/python3.12/site-packages (from unstructured-inference>=1.0.5->unstructured[all-docs]) (4.48.3)\n",
      "Requirement already satisfied: accelerate in /opt/anaconda3/envs/ml/lib/python3.12/site-packages (from unstructured-inference>=1.0.5->unstructured[all-docs]) (1.10.1)\n",
      "Requirement already satisfied: scipy in /opt/anaconda3/envs/ml/lib/python3.12/site-packages (from unstructured-inference>=1.0.5->unstructured[all-docs]) (1.15.3)\n",
      "Requirement already satisfied: pypdfium2 in /opt/anaconda3/envs/ml/lib/python3.12/site-packages (from unstructured-inference>=1.0.5->unstructured[all-docs]) (4.30.1)\n",
      "Requirement already satisfied: filelock in /opt/anaconda3/envs/ml/lib/python3.12/site-packages (from transformers>=4.25.1->unstructured-inference>=1.0.5->unstructured[all-docs]) (3.18.0)\n",
      "Requirement already satisfied: pyyaml>=5.1 in /opt/anaconda3/envs/ml/lib/python3.12/site-packages (from transformers>=4.25.1->unstructured-inference>=1.0.5->unstructured[all-docs]) (6.0.2)\n",
      "Requirement already satisfied: regex!=2019.12.17 in /opt/anaconda3/envs/ml/lib/python3.12/site-packages (from transformers>=4.25.1->unstructured-inference>=1.0.5->unstructured[all-docs]) (2024.11.6)\n",
      "Requirement already satisfied: tokenizers<0.22,>=0.21 in /opt/anaconda3/envs/ml/lib/python3.12/site-packages (from transformers>=4.25.1->unstructured-inference>=1.0.5->unstructured[all-docs]) (0.21.1)\n",
      "Requirement already satisfied: safetensors>=0.4.1 in /opt/anaconda3/envs/ml/lib/python3.12/site-packages (from transformers>=4.25.1->unstructured-inference>=1.0.5->unstructured[all-docs]) (0.5.3)\n",
      "Requirement already satisfied: fsspec>=2023.5.0 in /opt/anaconda3/envs/ml/lib/python3.12/site-packages (from huggingface-hub->unstructured-inference>=1.0.5->unstructured[all-docs]) (2025.5.1)\n",
      "Requirement already satisfied: jinja2 in /opt/anaconda3/envs/ml/lib/python3.12/site-packages (from torch->unstructured-inference>=1.0.5->unstructured[all-docs]) (3.1.6)\n",
      "Requirement already satisfied: setuptools in /opt/anaconda3/envs/ml/lib/python3.12/site-packages (from torch->unstructured-inference>=1.0.5->unstructured[all-docs]) (78.1.1)\n",
      "Requirement already satisfied: mpmath<1.4,>=1.1.0 in /opt/anaconda3/envs/ml/lib/python3.12/site-packages (from sympy->onnxruntime>=1.19.0->unstructured[all-docs]) (1.3.0)\n",
      "Requirement already satisfied: soupsieve>1.2 in /opt/anaconda3/envs/ml/lib/python3.12/site-packages (from beautifulsoup4->unstructured[all-docs]) (2.7)\n",
      "Requirement already satisfied: humanfriendly>=9.1 in /opt/anaconda3/envs/ml/lib/python3.12/site-packages (from coloredlogs->onnxruntime>=1.19.0->unstructured[all-docs]) (10.0)\n",
      "Requirement already satisfied: marshmallow<4.0.0,>=3.18.0 in /opt/anaconda3/envs/ml/lib/python3.12/site-packages (from dataclasses-json->unstructured[all-docs]) (3.26.1)\n",
      "Requirement already satisfied: typing-inspect<1,>=0.4.0 in /opt/anaconda3/envs/ml/lib/python3.12/site-packages (from dataclasses-json->unstructured[all-docs]) (0.9.0)\n",
      "Requirement already satisfied: mypy-extensions>=0.3.0 in /opt/anaconda3/envs/ml/lib/python3.12/site-packages (from typing-inspect<1,>=0.4.0->dataclasses-json->unstructured[all-docs]) (1.1.0)\n",
      "Requirement already satisfied: torchvision in /opt/anaconda3/envs/ml/lib/python3.12/site-packages (from effdet->unstructured[all-docs]) (0.20.1)\n",
      "Requirement already satisfied: pycocotools>=2.0.2 in /opt/anaconda3/envs/ml/lib/python3.12/site-packages (from effdet->unstructured[all-docs]) (2.0.10)\n",
      "Requirement already satisfied: omegaconf>=2.0 in /opt/anaconda3/envs/ml/lib/python3.12/site-packages (from effdet->unstructured[all-docs]) (2.3.0)\n",
      "Requirement already satisfied: antlr4-python3-runtime==4.9.* in /opt/anaconda3/envs/ml/lib/python3.12/site-packages (from omegaconf>=2.0->effdet->unstructured[all-docs]) (4.9.3)\n",
      "Requirement already satisfied: google-api-core!=2.0.*,!=2.1.*,!=2.10.*,!=2.2.*,!=2.3.*,!=2.4.*,!=2.5.*,!=2.6.*,!=2.7.*,!=2.8.*,!=2.9.*,<3.0.0,>=1.34.1 in /opt/anaconda3/envs/ml/lib/python3.12/site-packages (from google-api-core[grpc]!=2.0.*,!=2.1.*,!=2.10.*,!=2.2.*,!=2.3.*,!=2.4.*,!=2.5.*,!=2.6.*,!=2.7.*,!=2.8.*,!=2.9.*,<3.0.0,>=1.34.1->google-cloud-vision->unstructured[all-docs]) (2.25.1)\n",
      "Requirement already satisfied: google-auth!=2.24.0,!=2.25.0,<3.0.0,>=2.14.1 in /opt/anaconda3/envs/ml/lib/python3.12/site-packages (from google-cloud-vision->unstructured[all-docs]) (2.40.3)\n",
      "Requirement already satisfied: proto-plus<2.0.0,>=1.22.3 in /opt/anaconda3/envs/ml/lib/python3.12/site-packages (from google-cloud-vision->unstructured[all-docs]) (1.26.1)\n",
      "Requirement already satisfied: googleapis-common-protos<2.0.0,>=1.56.2 in /opt/anaconda3/envs/ml/lib/python3.12/site-packages (from google-api-core!=2.0.*,!=2.1.*,!=2.10.*,!=2.2.*,!=2.3.*,!=2.4.*,!=2.5.*,!=2.6.*,!=2.7.*,!=2.8.*,!=2.9.*,<3.0.0,>=1.34.1->google-api-core[grpc]!=2.0.*,!=2.1.*,!=2.10.*,!=2.2.*,!=2.3.*,!=2.4.*,!=2.5.*,!=2.6.*,!=2.7.*,!=2.8.*,!=2.9.*,<3.0.0,>=1.34.1->google-cloud-vision->unstructured[all-docs]) (1.70.0)\n",
      "Requirement already satisfied: grpcio<2.0.0,>=1.33.2 in /opt/anaconda3/envs/ml/lib/python3.12/site-packages (from google-api-core[grpc]!=2.0.*,!=2.1.*,!=2.10.*,!=2.2.*,!=2.3.*,!=2.4.*,!=2.5.*,!=2.6.*,!=2.7.*,!=2.8.*,!=2.9.*,<3.0.0,>=1.34.1->google-cloud-vision->unstructured[all-docs]) (1.74.0)\n",
      "Requirement already satisfied: grpcio-status<2.0.0,>=1.33.2 in /opt/anaconda3/envs/ml/lib/python3.12/site-packages (from google-api-core[grpc]!=2.0.*,!=2.1.*,!=2.10.*,!=2.2.*,!=2.3.*,!=2.4.*,!=2.5.*,!=2.6.*,!=2.7.*,!=2.8.*,!=2.9.*,<3.0.0,>=1.34.1->google-cloud-vision->unstructured[all-docs]) (1.71.2)\n",
      "Requirement already satisfied: cachetools<6.0,>=2.0.0 in /opt/anaconda3/envs/ml/lib/python3.12/site-packages (from google-auth!=2.24.0,!=2.25.0,<3.0.0,>=2.14.1->google-cloud-vision->unstructured[all-docs]) (5.5.2)\n",
      "Requirement already satisfied: pyasn1-modules>=0.2.1 in /opt/anaconda3/envs/ml/lib/python3.12/site-packages (from google-auth!=2.24.0,!=2.25.0,<3.0.0,>=2.14.1->google-cloud-vision->unstructured[all-docs]) (0.4.2)\n",
      "Requirement already satisfied: rsa<5,>=3.1.4 in /opt/anaconda3/envs/ml/lib/python3.12/site-packages (from google-auth!=2.24.0,!=2.25.0,<3.0.0,>=2.14.1->google-cloud-vision->unstructured[all-docs]) (4.9.1)\n",
      "Requirement already satisfied: idna<4,>=2.5 in /opt/anaconda3/envs/ml/lib/python3.12/site-packages (from requests->unstructured[all-docs]) (3.10)\n",
      "Requirement already satisfied: urllib3<3,>=1.21.1 in /opt/anaconda3/envs/ml/lib/python3.12/site-packages (from requests->unstructured[all-docs]) (2.5.0)\n",
      "Requirement already satisfied: certifi>=2017.4.17 in /opt/anaconda3/envs/ml/lib/python3.12/site-packages (from requests->unstructured[all-docs]) (2025.6.15)\n",
      "Requirement already satisfied: pyasn1>=0.1.3 in /opt/anaconda3/envs/ml/lib/python3.12/site-packages (from rsa<5,>=3.1.4->google-auth!=2.24.0,!=2.25.0,<3.0.0,>=2.14.1->google-cloud-vision->unstructured[all-docs]) (0.6.1)\n",
      "Requirement already satisfied: six>=1.9 in /opt/anaconda3/envs/ml/lib/python3.12/site-packages (from html5lib->unstructured[all-docs]) (1.17.0)\n",
      "Requirement already satisfied: webencodings in /opt/anaconda3/envs/ml/lib/python3.12/site-packages (from html5lib->unstructured[all-docs]) (0.5.1)\n",
      "Requirement already satisfied: MarkupSafe>=2.0 in /opt/anaconda3/envs/ml/lib/python3.12/site-packages (from jinja2->torch->unstructured-inference>=1.0.5->unstructured[all-docs]) (3.0.2)\n",
      "Requirement already satisfied: contourpy>=1.0.1 in /opt/anaconda3/envs/ml/lib/python3.12/site-packages (from matplotlib->unstructured-inference>=1.0.5->unstructured[all-docs]) (1.3.3)\n",
      "Requirement already satisfied: cycler>=0.10 in /opt/anaconda3/envs/ml/lib/python3.12/site-packages (from matplotlib->unstructured-inference>=1.0.5->unstructured[all-docs]) (0.12.1)\n",
      "Requirement already satisfied: fonttools>=4.22.0 in /opt/anaconda3/envs/ml/lib/python3.12/site-packages (from matplotlib->unstructured-inference>=1.0.5->unstructured[all-docs]) (4.59.0)\n",
      "Requirement already satisfied: kiwisolver>=1.3.1 in /opt/anaconda3/envs/ml/lib/python3.12/site-packages (from matplotlib->unstructured-inference>=1.0.5->unstructured[all-docs]) (1.4.9)\n",
      "Requirement already satisfied: pyparsing>=2.3.1 in /opt/anaconda3/envs/ml/lib/python3.12/site-packages (from matplotlib->unstructured-inference>=1.0.5->unstructured[all-docs]) (3.2.3)\n",
      "Requirement already satisfied: python-dateutil>=2.7 in /opt/anaconda3/envs/ml/lib/python3.12/site-packages (from matplotlib->unstructured-inference>=1.0.5->unstructured[all-docs]) (2.9.0.post0)\n",
      "Requirement already satisfied: cryptography>=39.0 in /opt/anaconda3/envs/ml/lib/python3.12/site-packages (from msoffcrypto-tool->unstructured[all-docs]) (45.0.7)\n",
      "Requirement already satisfied: olefile>=0.46 in /opt/anaconda3/envs/ml/lib/python3.12/site-packages (from msoffcrypto-tool->unstructured[all-docs]) (0.47)\n",
      "Requirement already satisfied: cffi>=1.14 in /opt/anaconda3/envs/ml/lib/python3.12/site-packages (from cryptography>=39.0->msoffcrypto-tool->unstructured[all-docs]) (1.17.1)\n",
      "Requirement already satisfied: pycparser in /opt/anaconda3/envs/ml/lib/python3.12/site-packages (from cffi>=1.14->cryptography>=39.0->msoffcrypto-tool->unstructured[all-docs]) (2.22)\n",
      "Requirement already satisfied: click in /opt/anaconda3/envs/ml/lib/python3.12/site-packages (from nltk->unstructured[all-docs]) (8.2.1)\n",
      "Requirement already satisfied: joblib in /opt/anaconda3/envs/ml/lib/python3.12/site-packages (from nltk->unstructured[all-docs]) (1.5.1)\n",
      "Requirement already satisfied: et-xmlfile in /opt/anaconda3/envs/ml/lib/python3.12/site-packages (from openpyxl->unstructured[all-docs]) (2.0.0)\n",
      "Requirement already satisfied: pytz>=2020.1 in /opt/anaconda3/envs/ml/lib/python3.12/site-packages (from pandas->unstructured[all-docs]) (2025.2)\n",
      "Requirement already satisfied: tzdata>=2022.7 in /opt/anaconda3/envs/ml/lib/python3.12/site-packages (from pandas->unstructured[all-docs]) (2025.2)\n",
      "Requirement already satisfied: Deprecated in /opt/anaconda3/envs/ml/lib/python3.12/site-packages (from pikepdf->unstructured[all-docs]) (1.2.18)\n",
      "Requirement already satisfied: aiofiles>=24.1.0 in /opt/anaconda3/envs/ml/lib/python3.12/site-packages (from unstructured-client->unstructured[all-docs]) (24.1.0)\n",
      "Requirement already satisfied: httpcore>=1.0.9 in /opt/anaconda3/envs/ml/lib/python3.12/site-packages (from unstructured-client->unstructured[all-docs]) (1.0.9)\n",
      "Requirement already satisfied: httpx>=0.27.0 in /opt/anaconda3/envs/ml/lib/python3.12/site-packages (from unstructured-client->unstructured[all-docs]) (0.27.2)\n",
      "Requirement already satisfied: pydantic>=2.11.2 in /opt/anaconda3/envs/ml/lib/python3.12/site-packages (from unstructured-client->unstructured[all-docs]) (2.11.7)\n",
      "Requirement already satisfied: requests-toolbelt>=1.0.0 in /opt/anaconda3/envs/ml/lib/python3.12/site-packages (from unstructured-client->unstructured[all-docs]) (1.0.0)\n",
      "Requirement already satisfied: h11>=0.16 in /opt/anaconda3/envs/ml/lib/python3.12/site-packages (from httpcore>=1.0.9->unstructured-client->unstructured[all-docs]) (0.16.0)\n",
      "Requirement already satisfied: anyio in /opt/anaconda3/envs/ml/lib/python3.12/site-packages (from httpx>=0.27.0->unstructured-client->unstructured[all-docs]) (4.9.0)\n",
      "Requirement already satisfied: sniffio in /opt/anaconda3/envs/ml/lib/python3.12/site-packages (from httpx>=0.27.0->unstructured-client->unstructured[all-docs]) (1.3.1)\n",
      "Requirement already satisfied: annotated-types>=0.6.0 in /opt/anaconda3/envs/ml/lib/python3.12/site-packages (from pydantic>=2.11.2->unstructured-client->unstructured[all-docs]) (0.7.0)\n",
      "Requirement already satisfied: pydantic-core==2.33.2 in /opt/anaconda3/envs/ml/lib/python3.12/site-packages (from pydantic>=2.11.2->unstructured-client->unstructured[all-docs]) (2.33.2)\n",
      "Requirement already satisfied: typing-inspection>=0.4.0 in /opt/anaconda3/envs/ml/lib/python3.12/site-packages (from pydantic>=2.11.2->unstructured-client->unstructured[all-docs]) (0.4.1)\n",
      "Requirement already satisfied: unstructured in /opt/anaconda3/envs/ml/lib/python3.12/site-packages (0.18.14)\n",
      "Requirement already satisfied: openpyxl in /opt/anaconda3/envs/ml/lib/python3.12/site-packages (3.1.5)\n",
      "Requirement already satisfied: python-magic in /opt/anaconda3/envs/ml/lib/python3.12/site-packages (0.4.27)\n",
      "Requirement already satisfied: python-pptx in /opt/anaconda3/envs/ml/lib/python3.12/site-packages (1.0.2)\n",
      "Requirement already satisfied: charset-normalizer in /opt/anaconda3/envs/ml/lib/python3.12/site-packages (from unstructured) (3.4.2)\n",
      "Requirement already satisfied: filetype in /opt/anaconda3/envs/ml/lib/python3.12/site-packages (from unstructured) (1.2.0)\n",
      "Requirement already satisfied: lxml in /opt/anaconda3/envs/ml/lib/python3.12/site-packages (from unstructured) (5.4.0)\n",
      "Requirement already satisfied: nltk in /opt/anaconda3/envs/ml/lib/python3.12/site-packages (from unstructured) (3.9.1)\n",
      "Requirement already satisfied: requests in /opt/anaconda3/envs/ml/lib/python3.12/site-packages (from unstructured) (2.32.5)\n",
      "Requirement already satisfied: beautifulsoup4 in /opt/anaconda3/envs/ml/lib/python3.12/site-packages (from unstructured) (4.13.4)\n",
      "Requirement already satisfied: emoji in /opt/anaconda3/envs/ml/lib/python3.12/site-packages (from unstructured) (2.14.1)\n",
      "Requirement already satisfied: dataclasses-json in /opt/anaconda3/envs/ml/lib/python3.12/site-packages (from unstructured) (0.6.7)\n",
      "Requirement already satisfied: python-iso639 in /opt/anaconda3/envs/ml/lib/python3.12/site-packages (from unstructured) (2025.2.18)\n",
      "Requirement already satisfied: langdetect in /opt/anaconda3/envs/ml/lib/python3.12/site-packages (from unstructured) (1.0.9)\n",
      "Requirement already satisfied: numpy in /opt/anaconda3/envs/ml/lib/python3.12/site-packages (from unstructured) (2.2.6)\n",
      "Requirement already satisfied: rapidfuzz in /opt/anaconda3/envs/ml/lib/python3.12/site-packages (from unstructured) (3.14.0)\n",
      "Requirement already satisfied: backoff in /opt/anaconda3/envs/ml/lib/python3.12/site-packages (from unstructured) (2.2.1)\n",
      "Requirement already satisfied: typing-extensions in /opt/anaconda3/envs/ml/lib/python3.12/site-packages (from unstructured) (4.14.0)\n",
      "Requirement already satisfied: unstructured-client in /opt/anaconda3/envs/ml/lib/python3.12/site-packages (from unstructured) (0.42.3)\n",
      "Requirement already satisfied: wrapt in /opt/anaconda3/envs/ml/lib/python3.12/site-packages (from unstructured) (1.17.3)\n",
      "Requirement already satisfied: tqdm in /opt/anaconda3/envs/ml/lib/python3.12/site-packages (from unstructured) (4.67.1)\n",
      "Requirement already satisfied: psutil in /opt/anaconda3/envs/ml/lib/python3.12/site-packages (from unstructured) (5.9.0)\n",
      "Requirement already satisfied: python-oxmsg in /opt/anaconda3/envs/ml/lib/python3.12/site-packages (from unstructured) (0.0.2)\n",
      "Requirement already satisfied: html5lib in /opt/anaconda3/envs/ml/lib/python3.12/site-packages (from unstructured) (1.1)\n",
      "Requirement already satisfied: et-xmlfile in /opt/anaconda3/envs/ml/lib/python3.12/site-packages (from openpyxl) (2.0.0)\n",
      "Requirement already satisfied: Pillow>=3.3.2 in /opt/anaconda3/envs/ml/lib/python3.12/site-packages (from python-pptx) (11.2.1)\n",
      "Requirement already satisfied: XlsxWriter>=0.5.7 in /opt/anaconda3/envs/ml/lib/python3.12/site-packages (from python-pptx) (3.2.5)\n",
      "Requirement already satisfied: soupsieve>1.2 in /opt/anaconda3/envs/ml/lib/python3.12/site-packages (from beautifulsoup4->unstructured) (2.7)\n",
      "Requirement already satisfied: marshmallow<4.0.0,>=3.18.0 in /opt/anaconda3/envs/ml/lib/python3.12/site-packages (from dataclasses-json->unstructured) (3.26.1)\n",
      "Requirement already satisfied: typing-inspect<1,>=0.4.0 in /opt/anaconda3/envs/ml/lib/python3.12/site-packages (from dataclasses-json->unstructured) (0.9.0)\n",
      "Requirement already satisfied: packaging>=17.0 in /opt/anaconda3/envs/ml/lib/python3.12/site-packages (from marshmallow<4.0.0,>=3.18.0->dataclasses-json->unstructured) (24.2)\n",
      "Requirement already satisfied: mypy-extensions>=0.3.0 in /opt/anaconda3/envs/ml/lib/python3.12/site-packages (from typing-inspect<1,>=0.4.0->dataclasses-json->unstructured) (1.1.0)\n",
      "Requirement already satisfied: six>=1.9 in /opt/anaconda3/envs/ml/lib/python3.12/site-packages (from html5lib->unstructured) (1.17.0)\n",
      "Requirement already satisfied: webencodings in /opt/anaconda3/envs/ml/lib/python3.12/site-packages (from html5lib->unstructured) (0.5.1)\n",
      "Requirement already satisfied: click in /opt/anaconda3/envs/ml/lib/python3.12/site-packages (from nltk->unstructured) (8.2.1)\n",
      "Requirement already satisfied: joblib in /opt/anaconda3/envs/ml/lib/python3.12/site-packages (from nltk->unstructured) (1.5.1)\n",
      "Requirement already satisfied: regex>=2021.8.3 in /opt/anaconda3/envs/ml/lib/python3.12/site-packages (from nltk->unstructured) (2024.11.6)\n",
      "Requirement already satisfied: olefile in /opt/anaconda3/envs/ml/lib/python3.12/site-packages (from python-oxmsg->unstructured) (0.47)\n",
      "Requirement already satisfied: idna<4,>=2.5 in /opt/anaconda3/envs/ml/lib/python3.12/site-packages (from requests->unstructured) (3.10)\n",
      "Requirement already satisfied: urllib3<3,>=1.21.1 in /opt/anaconda3/envs/ml/lib/python3.12/site-packages (from requests->unstructured) (2.5.0)\n",
      "Requirement already satisfied: certifi>=2017.4.17 in /opt/anaconda3/envs/ml/lib/python3.12/site-packages (from requests->unstructured) (2025.6.15)\n",
      "Requirement already satisfied: aiofiles>=24.1.0 in /opt/anaconda3/envs/ml/lib/python3.12/site-packages (from unstructured-client->unstructured) (24.1.0)\n",
      "Requirement already satisfied: cryptography>=3.1 in /opt/anaconda3/envs/ml/lib/python3.12/site-packages (from unstructured-client->unstructured) (45.0.7)\n",
      "Requirement already satisfied: httpcore>=1.0.9 in /opt/anaconda3/envs/ml/lib/python3.12/site-packages (from unstructured-client->unstructured) (1.0.9)\n",
      "Requirement already satisfied: httpx>=0.27.0 in /opt/anaconda3/envs/ml/lib/python3.12/site-packages (from unstructured-client->unstructured) (0.27.2)\n",
      "Requirement already satisfied: pydantic>=2.11.2 in /opt/anaconda3/envs/ml/lib/python3.12/site-packages (from unstructured-client->unstructured) (2.11.7)\n",
      "Requirement already satisfied: pypdf>=4.0 in /opt/anaconda3/envs/ml/lib/python3.12/site-packages (from unstructured-client->unstructured) (6.0.0)\n",
      "Requirement already satisfied: requests-toolbelt>=1.0.0 in /opt/anaconda3/envs/ml/lib/python3.12/site-packages (from unstructured-client->unstructured) (1.0.0)\n",
      "Requirement already satisfied: cffi>=1.14 in /opt/anaconda3/envs/ml/lib/python3.12/site-packages (from cryptography>=3.1->unstructured-client->unstructured) (1.17.1)\n",
      "Requirement already satisfied: pycparser in /opt/anaconda3/envs/ml/lib/python3.12/site-packages (from cffi>=1.14->cryptography>=3.1->unstructured-client->unstructured) (2.22)\n",
      "Requirement already satisfied: h11>=0.16 in /opt/anaconda3/envs/ml/lib/python3.12/site-packages (from httpcore>=1.0.9->unstructured-client->unstructured) (0.16.0)\n",
      "Requirement already satisfied: anyio in /opt/anaconda3/envs/ml/lib/python3.12/site-packages (from httpx>=0.27.0->unstructured-client->unstructured) (4.9.0)\n",
      "Requirement already satisfied: sniffio in /opt/anaconda3/envs/ml/lib/python3.12/site-packages (from httpx>=0.27.0->unstructured-client->unstructured) (1.3.1)\n",
      "Requirement already satisfied: annotated-types>=0.6.0 in /opt/anaconda3/envs/ml/lib/python3.12/site-packages (from pydantic>=2.11.2->unstructured-client->unstructured) (0.7.0)\n",
      "Requirement already satisfied: pydantic-core==2.33.2 in /opt/anaconda3/envs/ml/lib/python3.12/site-packages (from pydantic>=2.11.2->unstructured-client->unstructured) (2.33.2)\n",
      "Requirement already satisfied: typing-inspection>=0.4.0 in /opt/anaconda3/envs/ml/lib/python3.12/site-packages (from pydantic>=2.11.2->unstructured-client->unstructured) (0.4.1)\n"
     ]
    }
   ],
   "source": [
    "! pip install nltk\n",
    "! pip install \"unstructured[all-docs]\"\n",
    "! pip install unstructured openpyxl python-magic python-pptx"
   ]
  },
  {
   "cell_type": "code",
   "execution_count": 4,
   "id": "f31937d1",
   "metadata": {},
   "outputs": [
    {
     "name": "stderr",
     "output_type": "stream",
     "text": [
      "[nltk_data] Downloading package punkt to\n",
      "[nltk_data]     /Users/mdmehranabul/nltk_data...\n",
      "[nltk_data]   Unzipping tokenizers/punkt.zip.\n"
     ]
    },
    {
     "data": {
      "text/plain": [
       "True"
      ]
     },
     "execution_count": 4,
     "metadata": {},
     "output_type": "execute_result"
    }
   ],
   "source": [
    "import nltk\n",
    "\n",
    "nltk.download('punkt')"
   ]
  },
  {
   "cell_type": "code",
   "execution_count": 6,
   "id": "0b3e01d5",
   "metadata": {},
   "outputs": [],
   "source": [
    "from langchain_community.document_loaders import UnstructuredPowerPointLoader\n",
    "\n",
    "loader=UnstructuredPowerPointLoader(\"data/ml_course.pptx\",mode=\"elements\")\n",
    "docs=loader.load()"
   ]
  },
  {
   "cell_type": "code",
   "execution_count": 17,
   "id": "5a7ec546",
   "metadata": {},
   "outputs": [
    {
     "data": {
      "text/plain": [
       "47"
      ]
     },
     "execution_count": 17,
     "metadata": {},
     "output_type": "execute_result"
    }
   ],
   "source": [
    "len(docs)"
   ]
  },
  {
   "cell_type": "code",
   "execution_count": 22,
   "id": "fd22454f",
   "metadata": {},
   "outputs": [],
   "source": [
    "ppt_data={}\n",
    "for doc in docs:\n",
    "    page=doc.metadata[\"page_number\"]\n",
    "    ppt_data[page]= ppt_data.get(page,\"\") +\" \\n\\n \" +doc.page_content\n"
   ]
  },
  {
   "cell_type": "code",
   "execution_count": 23,
   "id": "7b12e18f",
   "metadata": {},
   "outputs": [
    {
     "data": {
      "text/plain": [
       "{1: ' \\n\\n Machine Learning Model Deployment \\n\\n Introduction to ML Pipeline \\n\\n https://bit.ly/bert_nlp \\n\\n ',\n",
       " 2: ' \\n\\n What is Machine Learning Pipeline? \\n\\n ',\n",
       " 3: ' \\n\\n Type of ML Deployment \\n\\n Batch: In batch deployment, ML models process large volumes of data at scheduled intervals, ideal for tasks like end-of-day reporting or monthly analytics. \\n\\n Stream: Stream deployment enables ML models to process and analyze data in real-time as it flows in, suitable for applications like fraud detection or live social media analysis. \\n\\n Realtime: Realtime deployment allows ML models to provide instant predictions or decisions in response to incoming data, essential for use cases like recommendation systems or autonomous driving. \\n\\n Edge: Edge deployment involves running ML models on local devices close to the data source, reducing latency and bandwidth usage, which is crucial for IoT applications and smart devices. \\n\\n ',\n",
       " 4: ' \\n\\n Infrastructure and Integration \\n\\n Hardware and Software: Setting up the right environment for model deployment. \\n\\n Integration: Seamlessly integrating the model with existing systems and applications. \\n\\n ',\n",
       " 5: ' \\n\\n Benefits of Deploying ML Models \\n\\n Focus on new models, not maintaining existing models || Prevention of bugs || Creation of records for debugging and reproducing results || Standardization || Allows models to handle real-time data and large user bases. \\n\\n ',\n",
       " 6: ' \\n\\n Challenges in ML Deployment \\n\\n Data Management: Making sure the model gets the right kind of data. \\n\\n Model Scalability and Performance: Ensuring that their model can effectively scale as it keeps adding more complex information. \\n\\n Integration with Existing Systems: Fitting the model into current computers and software. \\n\\n Monitoring and Maintenance: Watching and fixing the model over time. \\n\\n Security and Privacy: Protecting data and keeping it private. \\n\\n Resource Management: Using computer resources like memory and power wisely. \\n\\n Versioning and Model Management: Keeping track of different versions of the model. \\n\\n Regulatory Compliance: Making sure the model follows the laws, rules, and regulations. \\n\\n User Acceptance and Trust: Getting people to trust and accept the model. \\n\\n Explainability and Transparency: Being able to explain how the model works. \\n\\n Cost Management: Managing how much it costs to use the model. \\n\\n As per research, only 13% of ML models ever make it to production. This is a huge gap, considering the possibilities that AI model deployment can bring to the organization. \\n\\n ',\n",
       " 7: ' \\n\\n Data and Model Management \\n\\n Data Pipelines: Building and maintaining data pipelines for continuous data flow. \\n\\n Model Versioning: Tracking and managing different versions of models. \\n\\n ',\n",
       " 8: ' \\n\\n A/B Testing \\n\\n Objective Comparison: A/B testing allows for an objective comparison of two model versions to determine which performs better based on specific metrics. \\n\\n Real-World Application: It is widely used to optimize user experiences, such as testing different recommendation systems or ad strategies to enhance engagement or conversion rates. \\n\\n Statistical Significance: The technique ensures that performance differences are statistically significant and not due to random chance by using control and treatment groups along with statistical tests. \\n\\n ',\n",
       " 9: ' \\n\\n Security, Compliance and Bias \\n\\n Security: Ensuring the security of machine learning models involves protecting sensitive data from unauthorized access and breaches through robust encryption, secure APIs, and access controls \\n\\n Compliance: Adhering to industry regulations and standards, such as GDPR or HIPAA, is critical to ensure the legal and ethical use of data in machine learning deployments. This involves data anonymization, user consent, and regular compliance audits. \\n\\n Bias Detection: Identifying and mitigating bias in ML models is crucial to prevent unfair and discriminatory outcomes. This involves using diverse training datasets, applying fairness-aware algorithms, and conducting bias impact assessments \\n\\n Continuous Monitoring: Regular monitoring and updating of deployed models are essential to maintain security, compliance, and fairness. This involves real-time performance tracking, automated alerts for anomalies, and periodic model retraining.'}"
      ]
     },
     "execution_count": 23,
     "metadata": {},
     "output_type": "execute_result"
    }
   ],
   "source": [
    "ppt_data"
   ]
  },
  {
   "cell_type": "code",
   "execution_count": 30,
   "id": "c275d580",
   "metadata": {},
   "outputs": [],
   "source": [
    "context=\"\"\n",
    "for page, content in ppt_data.items():\n",
    "    context += f\"### Slide {page}: \\n\\n{content.strip()}\\n\\n\\n\"\n"
   ]
  },
  {
   "cell_type": "code",
   "execution_count": 32,
   "id": "723464e2",
   "metadata": {},
   "outputs": [],
   "source": [
    "# print(context)"
   ]
  },
  {
   "cell_type": "code",
   "execution_count": 33,
   "id": "a20a0d9d",
   "metadata": {},
   "outputs": [],
   "source": [
    "### LLM Code\n",
    "\n",
    "from scripts import llm"
   ]
  },
  {
   "cell_type": "code",
   "execution_count": 35,
   "id": "8d8e9f40",
   "metadata": {},
   "outputs": [],
   "source": [
    "question=\"\"\" For each powerpoint slide provided above, write a 2-minute script that effectively conveys the key points.\n",
    "Ensure a smooth flow between slides, maintaining a clear and engaging narrative.\n",
    "\"\"\"\n",
    "\n",
    "response = llm.ask_llm(context, question)"
   ]
  },
  {
   "cell_type": "code",
   "execution_count": 37,
   "id": "1a214c77",
   "metadata": {},
   "outputs": [
    {
     "name": "stdout",
     "output_type": "stream",
     "text": [
      "Here are the scripts for each PowerPoint slide:\n",
      "\n",
      "**Slide 1: Introduction to ML Pipeline**\n",
      "\n",
      "(0s-5s)\n",
      "Hello everyone, and welcome to our presentation on Machine Learning Model Deployment. As we dive into the world of machine learning, it's essential to understand the importance of a well-designed pipeline. In this presentation, we'll explore the different types of deployment, the benefits of deploying models, and the challenges you may face along the way.\n",
      "\n",
      "(5s-10s)\n",
      "From end-of-day reporting to real-time analysis, machine learning models play a vital role in making data-driven decisions. But with the increasing complexity of these models, it's crucial to have a robust pipeline that ensures seamless deployment and scalability.\n",
      "\n",
      "(10s-15s)\n",
      "So, let's get started and explore the different types of deployment and what they entail.\n",
      "\n",
      "**Slide 2: What is Machine Learning Pipeline?**\n",
      "\n",
      "(0s-5s)\n",
      "Now that we've introduced the concept of a machine learning pipeline, let's dive deeper. A pipeline refers to a series of processes that enable you to design, train, test, and deploy your machine learning model. It's a critical component of any successful deployment.\n",
      "\n",
      "(5s-10s)\n",
      "A well-designed pipeline ensures that your model receives the right kind of data, is properly trained, and can handle real-time data and large user bases. It also helps prevent bugs, maintains existing models, and enables versioning and model management.\n",
      "\n",
      "(10s-15s)\n",
      "So, what are some common components of a machine learning pipeline? We'll explore this in more detail as we move through the presentation.\n",
      "\n",
      "**Slide 3: Type of ML Deployment**\n",
      "\n",
      "(0s-5s)\n",
      "Now that we've covered the basics of machine learning pipelines, let's talk about the different types of deployment. In batch deployment, models process large volumes of data at scheduled intervals. This is ideal for tasks like end-of-day reporting or monthly analytics.\n",
      "\n",
      "(5s-10s)\n",
      "Stream deployment enables models to process and analyze data in real-time as it flows in. This is suitable for applications like fraud detection or live social media analysis.\n",
      "\n",
      "(10s-15s)\n",
      "Realtime deployment allows models to provide instant predictions or decisions in response to incoming data, essential for use cases like recommendation systems or autonomous driving.\n",
      "\n",
      "(15s-20s)\n",
      "And finally, edge deployment involves running ML models on local devices close to the data source. This reduces latency and bandwidth usage, making it crucial for IoT applications and smart devices.\n",
      "\n",
      "**Slide 4: Infrastructure and Integration**\n",
      "\n",
      "(0s-5s)\n",
      "Now that we've explored the different types of deployment, let's talk about the infrastructure and integration required for each. Setting up the right environment for model deployment is critical to ensure scalability and performance.\n",
      "\n",
      "(5s-10s)\n",
      "Integration with existing systems and applications is also vital to ensure seamless deployment. This involves seamless integration with hardware and software components.\n",
      "\n",
      "(10s-15s)\n",
      "We'll explore this topic in more detail as we move through the presentation, but for now, let's focus on the benefits of deploying ML models.\n",
      "\n",
      "**Slide 5: Benefits of Deploying ML Models**\n",
      "\n",
      "(0s-5s)\n",
      "So, what are some benefits of deploying machine learning models? By focusing on new models, you can prevent bugs and maintain existing models. You also create records for debugging and reproducing results.\n",
      "\n",
      "(5s-10s)\n",
      "Standardization is another key benefit. This enables your model to handle real-time data and large user bases. And with the ability to deploy models in real-time, you can provide instant predictions or decisions.\n",
      "\n",
      "(10s-15s)\n",
      "But before we dive into the challenges of deployment, let's explore some of the benefits of using machine learning models.\n",
      "\n",
      "**Slide 6: Challenges in ML Deployment**\n",
      "\n",
      "(0s-5s)\n",
      "Now that we've explored the benefits of deploying ML models, it's time to discuss some common challenges. Data management is a critical component of any successful deployment.\n",
      "\n",
      "(5s-10s)\n",
      "Ensuring model scalability and performance is also essential. This involves using computer resources like memory and power wisely. Integration with existing systems is another key challenge.\n",
      "\n",
      "(10s-15s)\n",
      "Monitoring and maintenance are crucial to ensure the model remains secure, compliant, and fair. And let's not forget about security and privacy.\n",
      "\n",
      "**Slide 7: Data and Model Management**\n",
      "\n",
      "(0s-5s)\n",
      "Now that we've explored some of the challenges of deployment, let's talk about data and model management. Building and maintaining data pipelines is critical to ensure continuous data flow.\n",
      "\n",
      "(5s-10s)\n",
      "Model versioning is also vital to track and manage different versions of models. This enables you to maintain a stable and reliable pipeline.\n",
      "\n",
      "(10s-15s)\n",
      "By managing your data and models effectively, you can ensure seamless deployment and scalability.\n",
      "\n",
      "**Slide 8: A/B Testing**\n",
      "\n",
      "(0s-5s)\n",
      "Now that we've explored some of the key components of a machine learning pipeline, let's talk about A/B testing. Objective comparison is crucial to determine which model performs better.\n",
      "\n",
      "(5s-10s)\n",
      "A/B testing allows for real-world application and ensures statistically significant results. This technique is widely used to optimize user experiences, such as testing different recommendation systems or ad strategies.\n",
      "\n",
      "(10s-15s)\n",
      "By using A/B testing, you can ensure that your models are performing optimally and providing the best possible results.\n",
      "\n",
      "**Slide 9: Security, Compliance and Bias**\n",
      "\n",
      "(0s-5s)\n",
      "Now that we've explored some of the key components of a machine learning pipeline, let's talk about security, compliance, and bias. Ensuring the security of machine learning models is critical to protect sensitive data from unauthorized access.\n",
      "\n",
      "(5s-10s)\n",
      "Compliance involves adhering to industry regulations and standards, such as GDPR or HIPAA. This ensures the legal and ethical use of data in machine learning deployments.\n",
      "\n",
      "(10s-15s)\n",
      "Bias detection is also crucial to prevent unfair and discriminatory outcomes. By using diverse training datasets and applying fairness-aware algorithms, you can ensure that your models are fair and transparent.\n",
      "\n",
      "(15s-20s)\n",
      "Continuous monitoring and updating of deployed models are essential to maintain security, compliance, and fairness. Regular monitoring and updating help real-time performance tracking, automated alerts for anomalies, and periodic model retraining.\n",
      "\n",
      "**Slide 10: Data Management**\n",
      "\n",
      "(I don't have Slide 10 information)\n",
      "\n",
      "**Slide 11: Security and Compliance**\n",
      "\n",
      "(I don't have Slide 11 information)\n",
      "\n",
      "**Slide 12: Bias Detection**\n",
      "\n",
      "(I don't have Slide 12 information)\n"
     ]
    }
   ],
   "source": [
    "print(response)\n",
    "\n",
    "with open(\"data/ppt_script.md\",\"w\") as f:\n",
    "    f.write(response)"
   ]
  },
  {
   "cell_type": "markdown",
   "id": "ef8a2c9a",
   "metadata": {},
   "source": [
    "### Excel data analysis using LLM"
   ]
  },
  {
   "cell_type": "code",
   "execution_count": 38,
   "id": "058b9044",
   "metadata": {},
   "outputs": [],
   "source": [
    "from langchain_community.document_loaders import UnstructuredExcelLoader"
   ]
  },
  {
   "cell_type": "code",
   "execution_count": 44,
   "id": "97dcee26",
   "metadata": {},
   "outputs": [],
   "source": [
    "loader=UnstructuredExcelLoader(\"data/sample.xlsx\",mode=\"elements\")\n"
   ]
  },
  {
   "cell_type": "code",
   "execution_count": 51,
   "id": "fd12fb68",
   "metadata": {},
   "outputs": [
    {
     "name": "stdout",
     "output_type": "stream",
     "text": [
      "1\n"
     ]
    }
   ],
   "source": [
    "docs=loader.load()\n",
    "print(len(docs))\n",
    "doc=docs[0]\n",
    "context=doc.metadata['text_as_html']"
   ]
  },
  {
   "cell_type": "code",
   "execution_count": 52,
   "id": "19dc2dc7",
   "metadata": {},
   "outputs": [
    {
     "data": {
      "text/plain": [
       "'<table><tr><td>First Name</td><td>Last Name</td><td>City</td><td>Gender</td></tr><tr><td>Brandon</td><td>James</td><td>Miami</td><td>M</td></tr><tr><td>Sean</td><td>Hawkins</td><td>Denver</td><td>M</td></tr><tr><td>Judy</td><td>Day</td><td>Los Angeles</td><td>F</td></tr><tr><td>Ashley</td><td>Ruiz</td><td>San Francisco</td><td>F</td></tr><tr><td>Stephanie</td><td>Gomez</td><td>Portland</td><td>F</td></tr></table>'"
      ]
     },
     "execution_count": 52,
     "metadata": {},
     "output_type": "execute_result"
    }
   ],
   "source": [
    "context"
   ]
  },
  {
   "cell_type": "code",
   "execution_count": 53,
   "id": "5e0b722d",
   "metadata": {},
   "outputs": [
    {
     "name": "stdout",
     "output_type": "stream",
     "text": [
      "| First Name | Last Name | City    | Gender |\n",
      "|:-----------|:----------|:---------|:-------|\n",
      "| Brandon     | James      | Miami    | M       |\n",
      "| Sean        | Hawkins    | Denver   | M       |\n",
      "| Judy        | Day         | Los Angeles  | F |\n",
      "| Ashley      | Ruiz        | San Francisco  | F |\n",
      "| Stephanie   | Gomez       | Portland   | F       |\n"
     ]
    }
   ],
   "source": [
    "question='Return this data in markdown format'\n",
    "response=llm.ask_llm(context,question)\n",
    "print(response)"
   ]
  },
  {
   "cell_type": "code",
   "execution_count": 58,
   "id": "cda1e0df",
   "metadata": {},
   "outputs": [
    {
     "name": "stdout",
     "output_type": "stream",
     "text": [
      "| First Name | Last Name | City | Gender |\n",
      "|------------|-----------|-------|--------|\n",
      "| Judy       | Day        | Los Angeles   | F      |\n",
      "| Ashley     | Ruiz       | San Francisco | F      |\n",
      "| Stephanie  | Gomez      | Portland     | F      |\n"
     ]
    }
   ],
   "source": [
    "question=\"\"\"Return all entries where gender is 'F'. Format the response in markdown. Do not write preambles or explanations.\"\"\"\n",
    "response=llm.ask_llm(context,question)\n",
    "print(response)"
   ]
  },
  {
   "cell_type": "code",
   "execution_count": 62,
   "id": "7a8b6d12",
   "metadata": {},
   "outputs": [
    {
     "name": "stdout",
     "output_type": "stream",
     "text": [
      "# Males\n",
      "| First Name | Last Name | City     | Gender |\n",
      "|------------|-----------|----------|--------|\n",
      "| Brandon    | James     | Miami    | M      |\n",
      "| Sean       | Hawkins   | Denver    | M      |\n"
     ]
    }
   ],
   "source": [
    "question=\"\"\"Return all entries where gender is 'male'. Format the response in markdown. Do not write **preambles** or explanation.\"\"\"\n",
    "response=llm.ask_llm(context,question)\n",
    "print(response)"
   ]
  },
  {
   "cell_type": "markdown",
   "id": "06c5ad47",
   "metadata": {},
   "source": [
    "### Personalized Job Application Letter"
   ]
  },
  {
   "cell_type": "code",
   "execution_count": 64,
   "id": "4e536041",
   "metadata": {},
   "outputs": [
    {
     "name": "stdout",
     "output_type": "stream",
     "text": [
      "Requirement already satisfied: docx2txt in /opt/anaconda3/envs/ml/lib/python3.12/site-packages (0.8)\n",
      "Collecting docx2txt\n",
      "  Downloading docx2txt-0.9-py3-none-any.whl.metadata (529 bytes)\n",
      "Downloading docx2txt-0.9-py3-none-any.whl (4.0 kB)\n",
      "Installing collected packages: docx2txt\n",
      "  Attempting uninstall: docx2txt\n",
      "    Found existing installation: docx2txt 0.8\n",
      "    Uninstalling docx2txt-0.8:\n",
      "      Successfully uninstalled docx2txt-0.8\n",
      "Successfully installed docx2txt-0.9\n"
     ]
    }
   ],
   "source": [
    "! pip install -U docx2txt"
   ]
  },
  {
   "cell_type": "code",
   "execution_count": 66,
   "id": "f09a338b",
   "metadata": {},
   "outputs": [],
   "source": [
    "from langchain_community.document_loaders import Docx2txtLoader\n",
    "\n",
    "loader=Docx2txtLoader(\"data/job_description.docx\")\n",
    "docs=loader.load()"
   ]
  },
  {
   "cell_type": "code",
   "execution_count": 68,
   "id": "965617ac",
   "metadata": {},
   "outputs": [
    {
     "name": "stdout",
     "output_type": "stream",
     "text": [
      "Job Description - Data Scientist\n",
      "\n",
      "At SpiceJet, we rely on data to provide us valuable insights, and to automate our systems and solutions to help us increase revenues, reduce costs and provide improved customer experiences. We are seeking an experienced data scientist to deliver insights and automate our systems and processes. Ideal team member will have mathematical and statistical expertise, experience with modern data science programming languages and machine learning/AI platforms and techniques. You will mine, clean and interpret our data and then develop machine learning models to deliver business value across different parts of the business. \n",
      "\n",
      "Objectives of this Role\n",
      "\n",
      "Use Data Science and Machine Learning to increase revenue, reduce costs and increase customer satisfaction.\n",
      "\n",
      "Collaborate with product design and engineering to develop an understanding of needs\n",
      "\n",
      "Understand where the required data resides and work on ways to extract the relevant data.\n",
      "\n",
      "Research and devise statistical and machine learning models.\n",
      "\n",
      "Communicate insights to stakeholders in an automated fashion to enable them to take business decisions.\n",
      "\n",
      "Deploy models in production to automate various processes.\n",
      "\n",
      "\n",
      "\n",
      "Skills and Qualifications\n",
      "\n",
      "Bachelor’s degree in Data Science, Computer Science, Statistics, Applied mathematics, or related discipline\n",
      "\n",
      "3+ years experience in data science\n",
      "\n",
      "Proficiency with Machine Learning platforms and techniques, data mining, mathematics, and statistical analysis\n",
      "\n",
      "Predictive modelling experience\n",
      "\n",
      "Experience with Python, R, Excel, Tableau, SQL\n",
      "\n",
      "Comfortable working in a dynamic, research-oriented group with several ongoing concurrent projects\n",
      "\n",
      "\n",
      "\n",
      "Preferred Qualifications\n",
      "\n",
      "Master’s degree in Data Science, Computer Science, Stats, Applied math, or related discipline\n",
      "\n",
      "2+ years of project management experience\n",
      "\n",
      "\n",
      "\n",
      "Competencies:\n",
      "\n",
      "Defining: Can translate fuzzy problem in assigned area into formalized structure\n",
      "\n",
      "Troubleshooting: Can troubleshoot unseen problems in assigned area\n",
      "\n",
      "Solutioning:  Can independently implement the solution\n",
      "\n",
      "Coding Principles: Extensability, Abstraction, Separation of concerns, Chooses right Data Science/Machine learning techniques.\n",
      "\n",
      "Coding Quality: Performant, Integration tests coverage, implements security requirements.\n",
      "\n",
      "Programming Language Proficiency: Usage of design patterns and knowledge of functional aspects.\n",
      "\n",
      "Project Management: Can break down tasks, identify dependencies and provide accurate effort estimates that feed into the larger plan. Proactively resolve dependencies and communicate around progress and blockers.\n",
      "\n",
      "Execution: Responsible for timely completion of assigned components including integration and deployment to appropriate environments. Complete ownership of quality including iterations with stakeholders to meet the desired objectives.\n",
      "\n",
      "Responsiveness: Understands team priorities. Own, identify and quick turn around for production issues that address the root cause.\n",
      "\n",
      "Designing: Low level design, functional modeling, Adaptability, High level design with guidance\n",
      "\n",
      "Analysis: Understanding impact of design changes\n",
      "\n",
      "Non Functional Attributes: Understands the basic concepts around performance and can contribute to measuring and improving performance. Understands scalability\n",
      "\n",
      "Data Orientation: Apply algorithms to make smarter and intelligent data driven systems, Good understanding and know hows of various data tools/tech (e.g. Data Tools, IR and ML tools)\n"
     ]
    }
   ],
   "source": [
    "context=docs[0].page_content\n",
    "print(context)"
   ]
  },
  {
   "cell_type": "code",
   "execution_count": null,
   "id": "05e087b7",
   "metadata": {},
   "outputs": [],
   "source": [
    "question=\"\"\"My name is Virat, and I am a recent graduate from IIT with a focus on Natural Language Processing and Machine Learning.\n",
    "I am applying for a Data Scientist position at SpiceJet.\n",
    "Please write a concise job application email for me in short, removing any placeholders, including references to job boards or sources\"\"\"\n",
    "response=llm.ask_llm(context,question)\n",
    "print(response)\n"
   ]
  }
 ],
 "metadata": {
  "kernelspec": {
   "display_name": "ml",
   "language": "python",
   "name": "python3"
  },
  "language_info": {
   "codemirror_mode": {
    "name": "ipython",
    "version": 3
   },
   "file_extension": ".py",
   "mimetype": "text/x-python",
   "name": "python",
   "nbconvert_exporter": "python",
   "pygments_lexer": "ipython3",
   "version": "3.12.4"
  }
 },
 "nbformat": 4,
 "nbformat_minor": 5
}
