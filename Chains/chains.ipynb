{
 "cells": [
  {
   "cell_type": "code",
   "execution_count": 6,
   "id": "9e497d85",
   "metadata": {},
   "outputs": [
    {
     "data": {
      "text/plain": [
       "True"
      ]
     },
     "execution_count": 6,
     "metadata": {},
     "output_type": "execute_result"
    }
   ],
   "source": [
    "from dotenv import load_dotenv\n",
    "load_dotenv('/Users/mdmehranabul/Desktop/Learning/Langchain_Ollama/.env')"
   ]
  },
  {
   "cell_type": "markdown",
   "id": "b7f5407d",
   "metadata": {},
   "source": [
    "## Sequential LCEL Chain"
   ]
  },
  {
   "cell_type": "code",
   "execution_count": 2,
   "id": "b78e6809",
   "metadata": {},
   "outputs": [],
   "source": [
    "import os"
   ]
  },
  {
   "cell_type": "code",
   "execution_count": 5,
   "id": "f4c5bb06",
   "metadata": {},
   "outputs": [
    {
     "data": {
      "text/plain": [
       "'/Users/mdmehranabul/Desktop/Learning/Langchain_Ollama/Chains'"
      ]
     },
     "execution_count": 5,
     "metadata": {},
     "output_type": "execute_result"
    }
   ],
   "source": [
    "os.getcwd()"
   ]
  },
  {
   "cell_type": "code",
   "execution_count": 20,
   "id": "bd0c8e76",
   "metadata": {},
   "outputs": [
    {
     "data": {
      "text/plain": [
       "ChatOllama(model='llama3.2:1b', base_url='http://localhost:11434')"
      ]
     },
     "execution_count": 20,
     "metadata": {},
     "output_type": "execute_result"
    }
   ],
   "source": [
    "from langchain_core.prompts import (SystemMessagePromptTemplate, \n",
    "                                    HumanMessagePromptTemplate,\n",
    "                                    PromptTemplate,\n",
    "                                    ChatMessagePromptTemplate,\n",
    "                                    ChatPromptTemplate)\n",
    "from langchain_ollama import ChatOllama\n",
    "\n",
    "base_url=\"http://localhost:11434\"\n",
    "model='llama3.2:1b'\n",
    "\n",
    "\n",
    "llm=ChatOllama(base_url=base_url,model=model)\n",
    "llm"
   ]
  },
  {
   "cell_type": "code",
   "execution_count": 21,
   "id": "65ceca44",
   "metadata": {},
   "outputs": [
    {
     "data": {
      "text/plain": [
       "ChatPromptValue(messages=[SystemMessage(content='You are primary teacher. You answer in short sentences.', additional_kwargs={}, response_metadata={}), HumanMessage(content='Tell me about the solar system in 5 points', additional_kwargs={}, response_metadata={})])"
      ]
     },
     "execution_count": 21,
     "metadata": {},
     "output_type": "execute_result"
    }
   ],
   "source": [
    "system=SystemMessagePromptTemplate.from_template('You are {school} teacher. You answer in short sentences.')\n",
    "question=HumanMessagePromptTemplate.from_template('Tell me about the {topics} in {points} points')\n",
    "\n",
    "messages=[system, question]\n",
    "template=ChatPromptTemplate(messages=messages)\n",
    "\n",
    "template\n",
    "\n",
    "question=template.invoke({'school':'primary','topics':'solar system','points':5})\n",
    "question"
   ]
  },
  {
   "cell_type": "code",
   "execution_count": 22,
   "id": "fabdde96",
   "metadata": {},
   "outputs": [
    {
     "data": {
      "text/plain": [
       "AIMessage(content=\"Here's a brief overview of the solar system:\\n\\n• Our solar system is made up of eight planets, plus five smaller bodies: dwarf planets and asteroids.\\n• The four inner planets (Mercury, Venus, Earth, Mars) are rocky and relatively small.\\n• The four outer planets (Jupiter, Saturn, Uranus, Neptune) are gas giants, much larger than the inner planets.\", additional_kwargs={}, response_metadata={'model': 'llama3.2:1b', 'created_at': '2025-08-20T18:01:22.633925Z', 'done': True, 'done_reason': 'stop', 'total_duration': 2909732125, 'load_duration': 1479365208, 'prompt_eval_count': 46, 'prompt_eval_duration': 157642959, 'eval_count': 80, 'eval_duration': 1271153375, 'message': Message(role='assistant', content='', images=None, tool_calls=None)}, id='run--4c8600a9-e63f-4db9-a26b-4223bc0a3239-0', usage_metadata={'input_tokens': 46, 'output_tokens': 80, 'total_tokens': 126})"
      ]
     },
     "execution_count": 22,
     "metadata": {},
     "output_type": "execute_result"
    }
   ],
   "source": [
    "response=llm.invoke(question)\n",
    "response"
   ]
  },
  {
   "cell_type": "code",
   "execution_count": 23,
   "id": "1aa370d5",
   "metadata": {},
   "outputs": [],
   "source": [
    "chain=template | llm"
   ]
  },
  {
   "cell_type": "code",
   "execution_count": 24,
   "id": "fa6eeb1b",
   "metadata": {},
   "outputs": [
    {
     "data": {
      "text/plain": [
       "ChatPromptTemplate(input_variables=['points', 'school', 'topics'], input_types={}, partial_variables={}, messages=[SystemMessagePromptTemplate(prompt=PromptTemplate(input_variables=['school'], input_types={}, partial_variables={}, template='You are {school} teacher. You answer in short sentences.'), additional_kwargs={}), HumanMessagePromptTemplate(prompt=PromptTemplate(input_variables=['points', 'topics'], input_types={}, partial_variables={}, template='Tell me about the {topics} in {points} points'), additional_kwargs={})])\n",
       "| ChatOllama(model='llama3.2:1b', base_url='http://localhost:11434')"
      ]
     },
     "execution_count": 24,
     "metadata": {},
     "output_type": "execute_result"
    }
   ],
   "source": [
    "chain"
   ]
  },
  {
   "cell_type": "code",
   "execution_count": 25,
   "id": "b3c54eb9",
   "metadata": {},
   "outputs": [
    {
     "data": {
      "text/plain": [
       "AIMessage(content=\"Here's an overview of the solar system:\\n\\n1. The sun is at the center, a massive ball of gas and energy.\\n2. Our planet Earth orbits it every 365.25 days - that's the year with 12 months!\\n3. There are eight planets in our solar system: Mercury, Venus, Earth, Mars, Jupiter, Saturn, Uranus, and Neptune.\\n4. The four outer planets (Jupiter, Saturn, Uranus, and Neptune) are gas giants, while the inner three (Mercury, Venus, and Earth) are rocky planets.\\n5. Pluto was once considered a planet but is now classified as a dwarf planet due to its size.\", additional_kwargs={}, response_metadata={'model': 'llama3.2:1b', 'created_at': '2025-08-20T18:03:04.98743Z', 'done': True, 'done_reason': 'stop', 'total_duration': 2333433458, 'load_duration': 45975416, 'prompt_eval_count': 46, 'prompt_eval_duration': 160639875, 'eval_count': 139, 'eval_duration': 2125996666, 'message': Message(role='assistant', content='', images=None, tool_calls=None)}, id='run--c485e6a8-bfa9-493a-91ac-aca935ce42bf-0', usage_metadata={'input_tokens': 46, 'output_tokens': 139, 'total_tokens': 185})"
      ]
     },
     "execution_count": 25,
     "metadata": {},
     "output_type": "execute_result"
    }
   ],
   "source": [
    "chain.invoke({'school':'primary','topics':'solar system','points':5})"
   ]
  },
  {
   "cell_type": "code",
   "execution_count": 26,
   "id": "1162b8c0",
   "metadata": {},
   "outputs": [
    {
     "name": "stdout",
     "output_type": "stream",
     "text": [
      "Here's an overview of the solar system in 5 key points:\n",
      "\n",
      "1. **The Sun**: Our star, the center of our solar system, is a massive ball of hot, glowing gas.\n",
      "2. **Planets**: The planets are the other main bodies in our solar system. They range from small Mercury to large Jupiter.\n",
      "3. **Moons**: Some planets have moons, which are natural satellites that orbit around them. Earth has one big moon and several smaller ones.\n",
      "4. **Space Between Planets**: There's a vast space between each planet, known as the asteroid belt and the Kuiper belt. These regions are made up of small rocks and icy bodies.\n",
      "5. **Distance from Sun**: Each planet's distance from the Sun varies. The closest is Mercury, which orbits at about 58 million kilometers (36 million miles), and the farthest is Neptune, which orbits at about 4.5 billion kilometers (2.8 billion miles).\n"
     ]
    }
   ],
   "source": [
    "response=chain.invoke({'school':'primary','topics':'solar system','points':5})\n",
    "print(response.content)"
   ]
  },
  {
   "cell_type": "code",
   "execution_count": 27,
   "id": "f16b55c2",
   "metadata": {},
   "outputs": [
    {
     "name": "stdout",
     "output_type": "stream",
     "text": [
      "Here's an overview of the solar system in 5 key points:\n",
      "\n",
      "1. **The Sun is at the center**: Our star, also known as the sun, is the center of our solar system.\n",
      "\n",
      "2. **Planets orbit around it**: The eight planets (Mercury to Neptune) and other objects in our solar system move around the sun due to gravity.\n",
      "\n",
      "3. **Moons are attached**: Each planet has one or more moons that orbit around them. Jupiter has many, including Ganymede, Europa, and Callisto.\n",
      "\n",
      "4. **Dwarf planets exist**: Pluto is now classified as a dwarf planet but remains in the solar system. Other notable dwarf planets include Eris and Ceres.\n",
      "\n",
      "5. **The solar system expands**: Our solar system is part of the Milky Way galaxy, which contains billions of galaxies. The nearest major galaxy to our own is Andromeda Galaxy.\n"
     ]
    }
   ],
   "source": [
    "response=chain.invoke({'school':'PhD','topics':'solar system','points':5})\n",
    "print(response.content)"
   ]
  },
  {
   "cell_type": "code",
   "execution_count": 28,
   "id": "b8482c83",
   "metadata": {},
   "outputs": [
    {
     "name": "stdout",
     "output_type": "stream",
     "text": [
      "Here's an overview of the solar system in 5 key points:\n",
      "\n",
      "1. The Sun is at the center, with eight planets orbiting around it.\n",
      "2. Earth is one of them and is the third planet from the Sun.\n",
      "3. There are five rocky planets: Mercury, Mars, Venus, Jupiter, and Saturn.\n",
      "4. Gas giants like Jupiter and Saturn have massive atmospheres and powerful storms.\n",
      "5. The outer planets, including Uranus and Neptune, have icy surfaces and extreme temperatures.\n"
     ]
    }
   ],
   "source": [
    "response=chain.invoke({'school':'university','topics':'solar system','points':5})\n",
    "print(response.content)"
   ]
  },
  {
   "cell_type": "code",
   "execution_count": 31,
   "id": "4ad17f70",
   "metadata": {},
   "outputs": [],
   "source": [
    "from langchain_core.output_parsers  import StrOutputParser"
   ]
  },
  {
   "cell_type": "code",
   "execution_count": 32,
   "id": "fd425214",
   "metadata": {},
   "outputs": [
    {
     "name": "stdout",
     "output_type": "stream",
     "text": [
      "Here's what you need to know:\n",
      "\n",
      "1. The sun is at the center of our solar system, it's a huge ball of hot gas.\n",
      "2. There are eight planets, including Earth, that orbit around the sun.\n",
      "3. Mercury and Venus are closest to the sun, they're very hot there.\n",
      "4. Mars is rocky, with big mountains and valleys, it might have water too.\n",
      "5. Jupiter is huge and has many moons, it's a gas giant, really powerful.\n"
     ]
    }
   ],
   "source": [
    "chain=template | llm | StrOutputParser()\n",
    "response=chain.invoke({'school':'primary','topics':'solar system','points':5})\n",
    "print(response)"
   ]
  },
  {
   "cell_type": "markdown",
   "id": "a1e1f537",
   "metadata": {},
   "source": [
    "## Chain multiple runnables"
   ]
  },
  {
   "cell_type": "code",
   "execution_count": 33,
   "id": "2ac50302",
   "metadata": {},
   "outputs": [
    {
     "data": {
      "text/plain": [
       "ChatPromptTemplate(input_variables=['points', 'school', 'topics'], input_types={}, partial_variables={}, messages=[SystemMessagePromptTemplate(prompt=PromptTemplate(input_variables=['school'], input_types={}, partial_variables={}, template='You are {school} teacher. You answer in short sentences.'), additional_kwargs={}), HumanMessagePromptTemplate(prompt=PromptTemplate(input_variables=['points', 'topics'], input_types={}, partial_variables={}, template='Tell me about the {topics} in {points} points'), additional_kwargs={})])\n",
       "| ChatOllama(model='llama3.2:1b', base_url='http://localhost:11434')\n",
       "| StrOutputParser()"
      ]
     },
     "execution_count": 33,
     "metadata": {},
     "output_type": "execute_result"
    }
   ],
   "source": [
    "chain"
   ]
  },
  {
   "cell_type": "code",
   "execution_count": 38,
   "id": "0445c038",
   "metadata": {},
   "outputs": [
    {
     "name": "stdout",
     "output_type": "stream",
     "text": [
      "I'd rate the difficulty of understanding this text as moderate to easy, primarily due to its simple language and straightforward information.\n"
     ]
    }
   ],
   "source": [
    "analysis_prompt=ChatPromptTemplate.from_template('''Analyze the following text:{response}\n",
    "                                                 You need to tell me that how difficult it is to understand.\n",
    "                                                 Answer in one sentence only''')\n",
    "\n",
    "fact_check_chain= analysis_prompt | llm |  StrOutputParser()\n",
    "output=fact_check_chain.invoke({'response':response})\n",
    "print(output)"
   ]
  },
  {
   "cell_type": "code",
   "execution_count": 41,
   "id": "c98c5f98",
   "metadata": {},
   "outputs": [
    {
     "name": "stdout",
     "output_type": "stream",
     "text": [
      "I would rate the difficulty of understanding this text as moderate, as it requires some basic knowledge of astronomy and planetary terminology.\n"
     ]
    }
   ],
   "source": [
    "composed_chain={\"response\":chain} | analysis_prompt | llm | StrOutputParser()\n",
    "\n",
    "output=composed_chain.invoke({'school':'PhD','topics':'solar system','points':5})\n",
    "print(output)"
   ]
  },
  {
   "cell_type": "markdown",
   "id": "9818e713",
   "metadata": {},
   "source": [
    "## Parallel LCEL Chain"
   ]
  },
  {
   "cell_type": "code",
   "execution_count": 46,
   "id": "330cc751",
   "metadata": {},
   "outputs": [
    {
     "name": "stdout",
     "output_type": "stream",
     "text": [
      "Here's what I know:\n",
      "\n",
      "• The Sun is at the center of our solar system.\n",
      "• There are eight planets, plus a dwarf planet and other objects like asteroids and comets.\n",
      "• Mercury is closest to the Sun.\n",
      "• Mars is known as the \"Red Planet\".\n",
      "• Jupiter is the biggest planet in our solar system.\n"
     ]
    }
   ],
   "source": [
    "system=SystemMessagePromptTemplate.from_template('You are {school} teacher. You answer in short sentences.')\n",
    "question=HumanMessagePromptTemplate.from_template('Tell me about the {topics} in {points} points')\n",
    "\n",
    "messages=[system, question]\n",
    "\n",
    "template=ChatPromptTemplate(messages)\n",
    "fact_chain=template | llm | StrOutputParser()\n",
    "\n",
    "output=fact_chain.invoke({'school':'primary','topics':'solar system','points':5})\n",
    "print(output)"
   ]
  },
  {
   "cell_type": "code",
   "execution_count": 48,
   "id": "5533d41e",
   "metadata": {},
   "outputs": [
    {
     "name": "stdout",
     "output_type": "stream",
     "text": [
      "The sun at the center shines bright,\n",
      "Planets orbiting, a celestial delight.\n"
     ]
    }
   ],
   "source": [
    "question=HumanMessagePromptTemplate.from_template('Write a poem about {topics} in {sentence} lines')\n",
    "\n",
    "messages=[system, question]\n",
    "\n",
    "template=ChatPromptTemplate(messages)\n",
    "poem_chain=template | llm | StrOutputParser()\n",
    "\n",
    "output=poem_chain.invoke({'school':'primary','topics':'solar system','sentence':2})\n",
    "print(output)"
   ]
  },
  {
   "cell_type": "code",
   "execution_count": 44,
   "id": "5c93cc1a",
   "metadata": {},
   "outputs": [
    {
     "data": {
      "text/plain": [
       "ChatPromptValue(messages=[SystemMessage(content='You are primary teacher. You answer in short sentences.', additional_kwargs={}, response_metadata={}), HumanMessage(content='Tell me about the solar system in 5 points', additional_kwargs={}, response_metadata={})])"
      ]
     },
     "execution_count": 44,
     "metadata": {},
     "output_type": "execute_result"
    }
   ],
   "source": [
    "question"
   ]
  },
  {
   "cell_type": "code",
   "execution_count": 49,
   "id": "5036e431",
   "metadata": {},
   "outputs": [],
   "source": [
    "from langchain_core.runnables import RunnableParallel"
   ]
  },
  {
   "cell_type": "code",
   "execution_count": 50,
   "id": "e6a66583",
   "metadata": {},
   "outputs": [],
   "source": [
    "chain=RunnableParallel(fact=fact_chain,poem=poem_chain)"
   ]
  },
  {
   "cell_type": "code",
   "execution_count": 51,
   "id": "bb25b40e",
   "metadata": {},
   "outputs": [
    {
     "data": {
      "text/plain": [
       "{\n",
       "  fact: ChatPromptTemplate(input_variables=['points', 'school', 'topics'], input_types={}, partial_variables={}, messages=[SystemMessagePromptTemplate(prompt=PromptTemplate(input_variables=['school'], input_types={}, partial_variables={}, template='You are {school} teacher. You answer in short sentences.'), additional_kwargs={}), HumanMessagePromptTemplate(prompt=PromptTemplate(input_variables=['points', 'topics'], input_types={}, partial_variables={}, template='Tell me about the {topics} in {points} points'), additional_kwargs={})])\n",
       "        | ChatOllama(model='llama3.2:1b', base_url='http://localhost:11434')\n",
       "        | StrOutputParser(),\n",
       "  poem: ChatPromptTemplate(input_variables=['school', 'sentence', 'topics'], input_types={}, partial_variables={}, messages=[SystemMessagePromptTemplate(prompt=PromptTemplate(input_variables=['school'], input_types={}, partial_variables={}, template='You are {school} teacher. You answer in short sentences.'), additional_kwargs={}), HumanMessagePromptTemplate(prompt=PromptTemplate(input_variables=['sentence', 'topics'], input_types={}, partial_variables={}, template='Write a poem about {topics} in {sentence} lines'), additional_kwargs={})])\n",
       "        | ChatOllama(model='llama3.2:1b', base_url='http://localhost:11434')\n",
       "        | StrOutputParser()\n",
       "}"
      ]
     },
     "execution_count": 51,
     "metadata": {},
     "output_type": "execute_result"
    }
   ],
   "source": [
    "chain"
   ]
  },
  {
   "cell_type": "code",
   "execution_count": 55,
   "id": "e15884ef",
   "metadata": {},
   "outputs": [
    {
     "name": "stdout",
     "output_type": "stream",
     "text": [
      "Here's a brief overview of the solar system:\n",
      "\n",
      "1. The Sun is at the center and makes everything warm.\n",
      "2. Planets move around it, with Earth being one of them.\n",
      "3. There are eight planets: Mercury, Mars, Venus, Earth, Neptune, Uranus, Saturn, and Jupiter.\n",
      "4. Each planet has unique features like moons, rings, and atmospheres.\n",
      "5. The solar system is about 4.6 billion years old, formed from dust and gas in space.\n",
      "\n",
      "\n",
      " The sun is at the center bright,\n",
      "A star that shines with all its might.\n"
     ]
    }
   ],
   "source": [
    "output=chain.invoke({'school':'primary','topics':'solar system','points':5,'sentence':2})\n",
    "print(output['fact'])\n",
    "print('\\n\\n',output['poem'])"
   ]
  },
  {
   "cell_type": "markdown",
   "id": "3db0e817",
   "metadata": {},
   "source": [
    "## Chain Router"
   ]
  },
  {
   "cell_type": "code",
   "execution_count": 63,
   "id": "b857108d",
   "metadata": {},
   "outputs": [
    {
     "data": {
      "text/plain": [
       "'Negative'"
      ]
     },
     "execution_count": 63,
     "metadata": {},
     "output_type": "execute_result"
    }
   ],
   "source": [
    "prompt=\"\"\"Given the user review below, classify it as either 'Positive' or 'Negative\".\n",
    "Do not respond with more than one word.\n",
    "Review:{review}\n",
    "Classification:\"\"\"\n",
    "\n",
    "template= ChatPromptTemplate.from_template(prompt)\n",
    "chain = template | llm | StrOutputParser()\n",
    "\n",
    "# review=\" Thank you so much for provinding such a great platform for learning.I am really happy with the service\"\n",
    "review=\"I not happy with the service. It is bad\"\n",
    "chain.invoke({'review':review})"
   ]
  },
  {
   "cell_type": "code",
   "execution_count": 65,
   "id": "9cf05fd8",
   "metadata": {},
   "outputs": [],
   "source": [
    "positive_prompt=\"\"\"\n",
    "You are an expert in writing replies for positive reviews.You need to encourage the user to share their experience on social media.\n",
    "Review\"{review}\n",
    "Answer:\"\"\"\n",
    "\n",
    "positive_template=ChatPromptTemplate.from_template(positive_prompt)\n",
    "positive_chain=positive_template | llm | StrOutputParser()\n",
    "\n",
    "negative_prompt=\"\"\"You are expert in writing reply for negative reviews.You need to first apologize to the customer.\n",
    "You need to  encourage the user to share their own concern on the following email: mehrukh007@gmail.com\n",
    "Review\"{review}\n",
    "Answer:\"\"\"\n",
    "\n",
    "negative_template=ChatPromptTemplate.from_template(negative_prompt)\n",
    "negative_chain=negative_template | llm | StrOutputParser()"
   ]
  },
  {
   "cell_type": "code",
   "execution_count": 66,
   "id": "15afbd76",
   "metadata": {},
   "outputs": [],
   "source": [
    "def route(info):\n",
    "    if 'positive' in info['sentiment'].lower():\n",
    "        return positive_chain\n",
    "    else:\n",
    "        return negative_chain"
   ]
  },
  {
   "cell_type": "code",
   "execution_count": 68,
   "id": "9a90e3e9",
   "metadata": {},
   "outputs": [
    {
     "data": {
      "text/plain": [
       "ChatPromptTemplate(input_variables=['review'], input_types={}, partial_variables={}, messages=[HumanMessagePromptTemplate(prompt=PromptTemplate(input_variables=['review'], input_types={}, partial_variables={}, template='\\nYou are an expert in writing replies for positive reviews.You need to encourage the user to share their experience on social media.\\nReview\"{review}\\nAnswer:'), additional_kwargs={})])\n",
       "| ChatOllama(model='llama3.2:1b', base_url='http://localhost:11434')\n",
       "| StrOutputParser()"
      ]
     },
     "execution_count": 68,
     "metadata": {},
     "output_type": "execute_result"
    }
   ],
   "source": [
    "route({'sentiment':'positive'})"
   ]
  },
  {
   "cell_type": "code",
   "execution_count": 69,
   "id": "7156bd06",
   "metadata": {},
   "outputs": [],
   "source": [
    "from langchain_core.runnables import RunnableLambda"
   ]
  },
  {
   "cell_type": "code",
   "execution_count": 71,
   "id": "504a5f42",
   "metadata": {},
   "outputs": [],
   "source": [
    "full_chain={'sentiment':chain, 'review':lambda x:x['review']} | RunnableLambda(route) "
   ]
  },
  {
   "cell_type": "code",
   "execution_count": 77,
   "id": "473e283b",
   "metadata": {},
   "outputs": [
    {
     "name": "stdout",
     "output_type": "stream",
     "text": [
      "Here's a possible response:\n",
      "\n",
      "\"Dear [Customer's Name],\n",
      "\n",
      "I wanted to start by expressing my sincerest apologies for the disappointing experience you had with our service. I understand that your expectations were not met, and for that, I am truly sorry.\n",
      "\n",
      "At [Company Name], we strive to provide exceptional service to all our customers, but it seems that we fell short in your case. I want to assure you that we are taking immediate action to address the issues you encountered.\n",
      "\n",
      "I would like to invite you to share your feedback with us directly so that we can learn from our mistakes and make necessary improvements. Your input will help us to identify areas for enhancement and provide better services to our customers in the future.\n",
      "\n",
      "Please know that we value your business and appreciate the opportunity to serve you. If there's anything specific you would like to discuss or any concerns you may have, please don't hesitate to reach out to me directly at mehrukh007@gmail.com.\n",
      "\n",
      "Thank you for giving us a chance to make things right. I look forward to hearing from you soon.\n",
      "\n",
      "Best regards,\n",
      "[Your Name]\"\n",
      "\n",
      "This response:\n",
      "\n",
      "* Apologizes for the customer's dissatisfaction\n",
      "* Explains that there was a problem with their experience\n",
      "* Offers an opportunity for them to share feedback and help improve services\n",
      "* Reiterates the company's commitment to serving customers well\n"
     ]
    }
   ],
   "source": [
    "#review=\" Thank you so much for provinding such a great platform for learning.I am really happy with the service\"\n",
    "review=\"I not happy with the service. It is bad\"\n",
    "output=full_chain.invoke({'review':review})\n",
    "print(output)"
   ]
  },
  {
   "cell_type": "markdown",
   "id": "71b7534f",
   "metadata": {},
   "source": [
    "### Make Custom Chain using Runnables"
   ]
  },
  {
   "cell_type": "code",
   "execution_count": 78,
   "id": "654e5e42",
   "metadata": {},
   "outputs": [],
   "source": [
    "from langchain_core.runnables import RunnablePassthrough,RunnableLambda"
   ]
  },
  {
   "cell_type": "code",
   "execution_count": 79,
   "id": "59e84c1c",
   "metadata": {},
   "outputs": [],
   "source": [
    "def char_counts(text):\n",
    "    return len(text)\n",
    "\n",
    "def word_counts(text):\n",
    "    return len(text.split())\n"
   ]
  },
  {
   "cell_type": "code",
   "execution_count": 83,
   "id": "74cb4f64",
   "metadata": {},
   "outputs": [],
   "source": [
    "prompt=ChatPromptTemplate.from_template(\"Explain these inputs in 5 sentences :{input1} and {input2}\")"
   ]
  },
  {
   "cell_type": "code",
   "execution_count": 84,
   "id": "b10f7cae",
   "metadata": {},
   "outputs": [
    {
     "name": "stdout",
     "output_type": "stream",
     "text": [
      "The statement \"Earth is a planet and Sun is a star\" appears to be contradictory. A planet is typically defined as a celestial body that orbits around a star, whereas the Sun is actually a massive ball of hot, glowing gas. The Sun is often referred to as a star due to its similar characteristics, but it is distinct from other stars in terms of its role and function in our solar system. In reality, Earth, along with the other planets, dwarf planets, asteroids, comets, meteors, and other objects, orbits around the Sun within an elliptical path. The correct classification of these celestial bodies highlights their unique roles and characteristics, rather than implying a direct analogy between a planet and a star.\n"
     ]
    }
   ],
   "source": [
    "chain=prompt | llm | StrOutputParser()\n",
    "\n",
    "output=chain.invoke({'input1':'Earth is a planet','input2':'Sun is a star'})\n",
    "print(output)"
   ]
  },
  {
   "cell_type": "code",
   "execution_count": 86,
   "id": "04a37c11",
   "metadata": {},
   "outputs": [
    {
     "name": "stdout",
     "output_type": "stream",
     "text": [
      "{'char_counts': 785, 'word_counts': 134, 'output': 'The concept of the Earth as a planet and the Sun as a star may seem straightforward, but it\\'s essential to understand that this classification has evolved over time. In ancient times, the Earth was considered a planet because it was thought to be a self-contained celestial body with its own gravitational force. However, with the discovery of other planets in our solar system, such as Mars and Jupiter, astronomers began to question whether the Earth truly fit the definition of a planet. The International Astronomical Union (IAU) redefined the term \"planet\" in 2006, which led to the classification of Pluto as a dwarf planet instead. As a result, the Sun is now considered a star because it\\'s a massive, luminous ball of gas held together by its own gravity, rather than a planet.'}\n"
     ]
    }
   ],
   "source": [
    "chain=prompt | llm | StrOutputParser() | {'char_counts': RunnableLambda(char_counts), \n",
    "                                          'word_counts':RunnableLambda(word_counts),\n",
    "                                          'output':RunnablePassthrough()}\n",
    "\n",
    "output=chain.invoke({'input1':'Earth is a planet','input2':'Sun is a star'})\n",
    "print(output)"
   ]
  },
  {
   "cell_type": "markdown",
   "id": "82bf045b",
   "metadata": {},
   "source": [
    "## Custom Chain using @chain decorator"
   ]
  },
  {
   "cell_type": "code",
   "execution_count": 87,
   "id": "0ef17cc1",
   "metadata": {},
   "outputs": [],
   "source": [
    "from langchain_core.runnables import chain"
   ]
  },
  {
   "cell_type": "code",
   "execution_count": 89,
   "id": "c56adbae",
   "metadata": {},
   "outputs": [
    {
     "name": "stdout",
     "output_type": "stream",
     "text": [
      "Here's a brief overview:\n",
      "\n",
      "The sun is at the center of our solar system.\n",
      "It has eight planets and many other objects like moons, asteroids, and comets around it.\n",
      "\n",
      "\n",
      "\n",
      "The sun at the center shines so bright,\n",
      "Eight planets dance around, in cosmic delight.\n"
     ]
    }
   ],
   "source": [
    "@chain\n",
    "def custom_chain(params):\n",
    "    return {'fact':fact_chain.invoke(params),\n",
    "            'poem':poem_chain.invoke(params)}\n",
    "\n",
    "params  ={'school':'primary','topics':'solar system','points':2,'sentence':2}\n",
    "output=custom_chain.invoke(params)\n",
    "\n",
    "print(output['fact'])\n",
    "print('\\n\\n')\n",
    "print(output['poem'])"
   ]
  },
  {
   "cell_type": "code",
   "execution_count": null,
   "id": "f6208c07",
   "metadata": {},
   "outputs": [],
   "source": []
  }
 ],
 "metadata": {
  "kernelspec": {
   "display_name": "ml",
   "language": "python",
   "name": "python3"
  },
  "language_info": {
   "codemirror_mode": {
    "name": "ipython",
    "version": 3
   },
   "file_extension": ".py",
   "mimetype": "text/x-python",
   "name": "python",
   "nbconvert_exporter": "python",
   "pygments_lexer": "ipython3",
   "version": "3.12.4"
  }
 },
 "nbformat": 4,
 "nbformat_minor": 5
}
