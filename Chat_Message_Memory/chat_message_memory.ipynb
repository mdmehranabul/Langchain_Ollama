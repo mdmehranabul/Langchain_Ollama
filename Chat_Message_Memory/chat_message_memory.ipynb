{
 "cells": [
  {
   "cell_type": "code",
   "execution_count": 1,
   "id": "7ca80929",
   "metadata": {},
   "outputs": [
    {
     "data": {
      "text/plain": [
       "True"
      ]
     },
     "execution_count": 1,
     "metadata": {},
     "output_type": "execute_result"
    }
   ],
   "source": [
    "from dotenv import load_dotenv\n",
    "load_dotenv('/Users/mdmehranabul/Desktop/Learning/Langchain_Ollama/.env')"
   ]
  },
  {
   "cell_type": "markdown",
   "id": "dfaf46a3",
   "metadata": {},
   "source": [
    "### Simple Chain"
   ]
  },
  {
   "cell_type": "code",
   "execution_count": 2,
   "id": "3c4f796c",
   "metadata": {},
   "outputs": [
    {
     "data": {
      "text/plain": [
       "ChatOllama(model='llama3.2:3b', base_url='http://localhost:11434')"
      ]
     },
     "execution_count": 2,
     "metadata": {},
     "output_type": "execute_result"
    }
   ],
   "source": [
    "from langchain_core.prompts import (SystemMessagePromptTemplate, \n",
    "                                    HumanMessagePromptTemplate,\n",
    "                                    PromptTemplate,\n",
    "                                    ChatMessagePromptTemplate,\n",
    "                                    ChatPromptTemplate)\n",
    "from langchain_ollama import ChatOllama\n",
    "from langchain_core.output_parsers  import StrOutputParser\n",
    "\n",
    "base_url=\"http://localhost:11434\"\n",
    "model='llama3.2:3b'\n",
    "\n",
    "\n",
    "llm=ChatOllama(base_url=base_url,model=model)\n",
    "llm"
   ]
  },
  {
   "cell_type": "code",
   "execution_count": 3,
   "id": "b52d3907",
   "metadata": {},
   "outputs": [
    {
     "data": {
      "text/plain": [
       "\"Nice to meet you, Mehran! It's great to hear that you're a data scientist and AI enthusiast with experience working at reputable companies like TCS and Amazon.\\n\\nAs a data scientist, you must have had the opportunity to work on a wide range of projects, from predictive modeling to machine learning algorithms. I'm sure your expertise in AI has helped drive business value for the companies you've worked with.\\n\\nWhat specific areas of AI or data science are you most interested in? Are you working on any exciting projects or exploring new technologies like deep learning or natural language processing?\\n\\n(Also, feel free to share more about your background and experiences if you'd like!)\""
      ]
     },
     "execution_count": 3,
     "metadata": {},
     "output_type": "execute_result"
    }
   ],
   "source": [
    "template=ChatPromptTemplate.from_template(\"{prompt}\")\n",
    "chain=template | llm | StrOutputParser()\n",
    "\n",
    "about=\"My name is Mehran. I am a data scientist and AI enthusiast. I have worked at various companies like TCS and Amazon\"\n",
    "chain.invoke({'prompt':about})"
   ]
  },
  {
   "cell_type": "code",
   "execution_count": 4,
   "id": "8604656e",
   "metadata": {},
   "outputs": [
    {
     "data": {
      "text/plain": [
       "\"I don't have any information about you, so I don't know your name. This conversation just started, and we haven't exchanged any personal details yet. Would you like to tell me your name?\""
      ]
     },
     "execution_count": 4,
     "metadata": {},
     "output_type": "execute_result"
    }
   ],
   "source": [
    "prompt=\"What is my name?\"\n",
    "chain.invoke({'prompt':prompt})"
   ]
  },
  {
   "cell_type": "markdown",
   "id": "96de0866",
   "metadata": {},
   "source": [
    "### Runnable with message history"
   ]
  },
  {
   "cell_type": "code",
   "execution_count": 5,
   "id": "bc31b162",
   "metadata": {},
   "outputs": [],
   "source": [
    "from langchain_core.prompts import (SystemMessagePromptTemplate, \n",
    "                                    HumanMessagePromptTemplate,\n",
    "                                    PromptTemplate,\n",
    "                                    ChatMessagePromptTemplate,\n",
    "                                    ChatPromptTemplate)\n",
    "from langchain_ollama import ChatOllama\n",
    "from langchain_core.output_parsers  import StrOutputParser\n",
    "from langchain_core.messages import HumanMessage\n",
    "from langchain_core.runnables.history import RunnableWithMessageHistory\n",
    "from langchain_community.chat_message_histories import SQLChatMessageHistory"
   ]
  },
  {
   "cell_type": "code",
   "execution_count": 6,
   "id": "64ce8be6",
   "metadata": {},
   "outputs": [],
   "source": [
    "def get_session_history(session_id):\n",
    "    return SQLChatMessageHistory(session_id,\"sqlite:///chat_history.db\")"
   ]
  },
  {
   "cell_type": "code",
   "execution_count": 7,
   "id": "371bbd2f",
   "metadata": {},
   "outputs": [],
   "source": [
    "runnable_with_history = RunnableWithMessageHistory(chain, get_session_history)"
   ]
  },
  {
   "cell_type": "code",
   "execution_count": 18,
   "id": "3fdf87ed",
   "metadata": {},
   "outputs": [
    {
     "data": {
      "text/plain": [
       "[]"
      ]
     },
     "execution_count": 18,
     "metadata": {},
     "output_type": "execute_result"
    }
   ],
   "source": [
    "user_id='mehran_123'\n",
    "history=get_session_history(user_id)\n",
    "\n",
    "history.get_messages()"
   ]
  },
  {
   "cell_type": "code",
   "execution_count": 17,
   "id": "4788b696",
   "metadata": {},
   "outputs": [],
   "source": [
    "history.clear()"
   ]
  },
  {
   "cell_type": "code",
   "execution_count": 19,
   "id": "c6efa9d8",
   "metadata": {},
   "outputs": [
    {
     "data": {
      "text/plain": [
       "'My name is Mehran. I am a data scientist and AI enthusiast. I have worked at various companies like TCS and Amazon'"
      ]
     },
     "execution_count": 19,
     "metadata": {},
     "output_type": "execute_result"
    }
   ],
   "source": [
    "about"
   ]
  },
  {
   "cell_type": "code",
   "execution_count": 20,
   "id": "a290a9a9",
   "metadata": {},
   "outputs": [
    {
     "data": {
      "text/plain": [
       "\"Hello Mehran, \\n\\nIt's great to hear about your background in data science and AI enthusiasm! Working with well-known companies such as TCS and Amazon must have provided you with a broad range of experiences. What specific areas or projects within these fields are you most passionate about? Are there any new technologies or advancements that you're particularly interested in?\\n\\nFeel free to share more about your interests, goals, or any current challenges you're facing in your work.\""
      ]
     },
     "execution_count": 20,
     "metadata": {},
     "output_type": "execute_result"
    }
   ],
   "source": [
    "runnable_with_history.invoke([HumanMessage(content=about)],config={'configurable':{'session_id':user_id}})"
   ]
  },
  {
   "cell_type": "code",
   "execution_count": 22,
   "id": "12dcaba0",
   "metadata": {},
   "outputs": [
    {
     "data": {
      "text/plain": [
       "'This appears to be a sample conversation between a human user (Mehran) and a conversational AI system. The conversation starts with Mehran introducing himself as a data scientist and AI enthusiast, followed by the AI system responding with a friendly message asking about his interests and areas of passion.\\n\\nThe next message from Mehran is a simple question asking \"What is my name?\", which seems to be an attempt to test the AI system\\'s understanding or provide some context for the conversation.\\n\\nThe AI system responds by analyzing Mehran\\'s previous messages and provides a summary of his background, interests, and current challenges in his work. It then suggests potential follow-up questions that could help deepen the conversation and establish a meaningful connection with Mehran.\\n\\nHowever, Mehran repeats the question \"What is my name?\" again, indicating that he may be looking for a more personalized response or trying to see how the AI system reacts to this specific question.\\n\\nOverall, this conversation provides insight into how a conversational AI system can respond to user inputs and provide helpful feedback, while also highlighting the importance of understanding context and nuances in natural language interactions.'"
      ]
     },
     "execution_count": 22,
     "metadata": {},
     "output_type": "execute_result"
    }
   ],
   "source": [
    "runnable_with_history.invoke([HumanMessage(content=\"What is my name?\")],config={'configurable':{'session_id':user_id}})"
   ]
  },
  {
   "cell_type": "markdown",
   "id": "61236f10",
   "metadata": {},
   "source": [
    "### Message history with Dictionary like Inputs"
   ]
  },
  {
   "cell_type": "code",
   "execution_count": 23,
   "id": "4fbf41c9",
   "metadata": {},
   "outputs": [],
   "source": [
    "from langchain_core.prompts import (SystemMessagePromptTemplate, \n",
    "                                    HumanMessagePromptTemplate,\n",
    "                                    PromptTemplate,\n",
    "                                    ChatMessagePromptTemplate,\n",
    "                                    ChatPromptTemplate,\n",
    "                                    MessagesPlaceholder)\n",
    "from langchain_ollama import ChatOllama\n",
    "from langchain_core.output_parsers  import StrOutputParser\n",
    "from langchain_core.messages import HumanMessage"
   ]
  },
  {
   "cell_type": "code",
   "execution_count": 24,
   "id": "09f4775a",
   "metadata": {},
   "outputs": [],
   "source": [
    "system=SystemMessagePromptTemplate.from_template(\"You are a helpful assistant.\")\n",
    "human=HumanMessagePromptTemplate.from_template(\"{input}\")\n",
    "\n",
    "messages=[system,MessagesPlaceholder(variable_name='history'),human]\n",
    "\n",
    "prompt=ChatPromptTemplate.from_messages(messages=messages)\n",
    "\n",
    "chain=prompt | llm | StrOutputParser()\n",
    "\n",
    "\n",
    "runnable_with_history= RunnableWithMessageHistory(chain, get_session_history,input_messages_key='input',history_messages_key='history')"
   ]
  },
  {
   "cell_type": "code",
   "execution_count": 25,
   "id": "04795d1d",
   "metadata": {},
   "outputs": [],
   "source": [
    "def chat_with_llm(session_id,input):\n",
    "    output=runnable_with_history.invoke({'input':input},config={'configurable':{'session_id':session_id}})\n",
    "    return output"
   ]
  },
  {
   "cell_type": "code",
   "execution_count": 26,
   "id": "aebb196c",
   "metadata": {},
   "outputs": [
    {
     "data": {
      "text/plain": [
       "\"Nice to meet you, Mehran! It's great to hear that you're a data scientist and AI enthusiast with a rich background working at renowned companies like TCS and Amazon.\\n\\nAs a data scientist, you must have expertise in leveraging data analytics and machine learning techniques to drive business value. Your experience at these top companies suggests that you've had the opportunity to work on various projects and contribute to innovative solutions.\\n\\nWhat specific areas of AI or data science are you most passionate about? Are you working on any exciting projects currently, or is there a particular problem you're trying to solve in your research or professional endeavors?\\n\\nFeel free to share more about yourself, Mehran! I'm all ears.\""
      ]
     },
     "execution_count": 26,
     "metadata": {},
     "output_type": "execute_result"
    }
   ],
   "source": [
    "user_id='mehran_001'\n",
    "chat_with_llm(user_id,about)"
   ]
  },
  {
   "cell_type": "code",
   "execution_count": 27,
   "id": "2603746e",
   "metadata": {},
   "outputs": [
    {
     "data": {
      "text/plain": [
       "'Your name is Mehran.'"
      ]
     },
     "execution_count": 27,
     "metadata": {},
     "output_type": "execute_result"
    }
   ],
   "source": [
    "chat_with_llm(user_id,\"What is my name?\")"
   ]
  },
  {
   "cell_type": "code",
   "execution_count": null,
   "id": "fbc89b56",
   "metadata": {},
   "outputs": [],
   "source": []
  }
 ],
 "metadata": {
  "kernelspec": {
   "display_name": "ml",
   "language": "python",
   "name": "python3"
  },
  "language_info": {
   "codemirror_mode": {
    "name": "ipython",
    "version": 3
   },
   "file_extension": ".py",
   "mimetype": "text/x-python",
   "name": "python",
   "nbconvert_exporter": "python",
   "pygments_lexer": "ipython3",
   "version": "3.12.4"
  }
 },
 "nbformat": 4,
 "nbformat_minor": 5
}
