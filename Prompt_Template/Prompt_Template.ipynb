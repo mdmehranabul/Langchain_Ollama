{
 "cells": [
  {
   "cell_type": "code",
   "execution_count": 1,
   "id": "e29b7e06",
   "metadata": {},
   "outputs": [
    {
     "data": {
      "text/plain": [
       "True"
      ]
     },
     "execution_count": 1,
     "metadata": {},
     "output_type": "execute_result"
    }
   ],
   "source": [
    "from dotenv import load_dotenv\n",
    "\n",
    "load_dotenv('/Users/mdmehranabul/Desktop/Learning/Langchain_Ollama/.env')"
   ]
  },
  {
   "cell_type": "code",
   "execution_count": 9,
   "id": "4a8bd921",
   "metadata": {},
   "outputs": [
    {
     "name": "stdout",
     "output_type": "stream",
     "text": [
      "Here are three key points about the Earth:\n",
      "\n",
      "1. **Size and Composition**: The Earth is the third-largest planet in our solar system, with a diameter of approximately 12,742 kilometers (7,918 miles). It's primarily composed of iron, oxygen, silicon, and magnesium, making up about 71% of its mass. The remaining 29% consists of water, carbon dioxide, nitrogen, and other gases.\n",
      "\n",
      "2. **Atmosphere and Climate**: The Earth's atmosphere is made up of several layers, including the troposphere (the lowest layer), stratosphere, mesosphere, thermosphere, and exosphere. The atmospheric pressure decreases with altitude, and the temperature varies greatly between the equator (around 20°C/68°F) and the poles (-90°C/-130°F). This variation leads to diverse climates, ranging from tropical rainforests to polar ice caps.\n",
      "\n",
      "3. **Geological Activity**: The Earth's surface is constantly changing due to geological processes such as plate tectonics, volcanism, erosion, and weathering. Plate tectonics involve the movement of large plates of the Earth's crust, which can lead to earthquakes, volcanic eruptions, and the creation of mountain ranges. This process has shaped our planet over billions of years, creating diverse landscapes and ecosystems that support a wide range of life forms.\n"
     ]
    }
   ],
   "source": [
    "base_url=\"http://localhost:11434\"\n",
    "model='llama3.2:1b'\n",
    "\n",
    "from langchain_ollama import ChatOllama\n",
    "\n",
    "\n",
    "llm=ChatOllama(base_url=base_url,model=model)\n",
    "question='Tell me about the earth in 3 points'\n",
    "response=llm.invoke(question)\n",
    "\n",
    "print(response.content)"
   ]
  },
  {
   "cell_type": "code",
   "execution_count": 10,
   "id": "96739393",
   "metadata": {},
   "outputs": [
    {
     "name": "stdout",
     "output_type": "stream",
     "text": [
      "The Earth, a planet of unparalleled complexity and mystery. As I sit here in my armchair, surrounded by the familiar comforts of London, I shall distill its essence into three salient points.\n",
      "\n",
      "**Point 1: The Planet's Core**\n",
      "Our planet's core is a seething cauldron of iron and nickel, a dynamic maelstrom that generates the Earth's magnetic field. This molten metal behemoth is responsible for the planet's convective systems, driving plate tectonics and shaping our surface over millions of years. Fascinating, don't you agree?\n",
      "\n",
      "**Point 2: The Atmosphere**\n",
      "The atmosphere, that gaseous envelope surrounding our terrestrial jewel, is a delicate balance of gases, including nitrogen, oxygen, and carbon dioxide. This atmospheric ballet is orchestrated by the wind patterns, solar radiation, and the Earth's rotation, creating an intricate dance of air masses and weather systems.\n",
      "\n",
      "**Point 3: The Oceans**\n",
      "The oceans, those vast expanses of saltwater, cover over a third of our planet's surface and are home to nearly all life on Earth. I've observed firsthand the majesty of these aquatic realms, from the towering storm systems that rage across the Pacific to the subtle interactions between phytoplankton and their surroundings. The oceans, my dear fellow, hold secrets waiting to be unraveled by a curious mind such as mine.\n",
      "\n",
      "Now, if you'll excuse me, I have a case to crack...\n"
     ]
    }
   ],
   "source": [
    "base_url=\"http://localhost:11434\"\n",
    "model='sherlock'\n",
    "\n",
    "from langchain_ollama import ChatOllama\n",
    "\n",
    "\n",
    "llm=ChatOllama(base_url=base_url,model=model)\n",
    "question='Tell me about the earth in 3 points'\n",
    "response=llm.invoke(question)\n",
    "\n",
    "print(response.content)"
   ]
  },
  {
   "cell_type": "code",
   "execution_count": 11,
   "id": "3d0dd140",
   "metadata": {},
   "outputs": [
    {
     "name": "stdout",
     "output_type": "stream",
     "text": [
      "Finally, a question that allows me to utilize my vast knowledge of physics and astronomy. Now, pay attention, because I'm only going to explain this once.\n",
      "\n",
      "1. The Earth is an oblate spheroid, meaning it's slightly flattened at the poles and bulging at the equator. This is due to its rotation, which creates a centrifugal force that pushes the mass towards the equator. Now, if you'll excuse me, I need to calculate the exact axis of rotation for maximum accuracy.\n",
      "\n",
      "2. The Earth's atmosphere is composed of 78% nitrogen, 21% oxygen, and 1% other gases. However, let's not get bogged down in trivial details like this. What's important is that our atmosphere is capable of supporting life, which is a testament to the intricate complexities of the universe.\n",
      "\n",
      "3. The Earth orbits the Sun at an average distance of approximately 93 million miles (149.6 million kilometers). Now, if you'll permit me, I'd like to calculate the exact orbital eccentricity and its effects on our planet's climate. Bazinga!\n"
     ]
    }
   ],
   "source": [
    "base_url=\"http://localhost:11434\"\n",
    "model='sheldon'\n",
    "\n",
    "from langchain_ollama import ChatOllama\n",
    "\n",
    "\n",
    "llm=ChatOllama(base_url=base_url,model=model)\n",
    "question='Tell me about the earth in 3 points'\n",
    "response=llm.invoke(question)\n",
    "\n",
    "print(response.content)"
   ]
  },
  {
   "cell_type": "markdown",
   "id": "37cb0629",
   "metadata": {},
   "source": [
    "## Langchain Messages"
   ]
  },
  {
   "cell_type": "code",
   "execution_count": 29,
   "id": "b08b943e",
   "metadata": {},
   "outputs": [],
   "source": [
    "from langchain_core.messages import SystemMessage,HumanMessage\n",
    "\n",
    "base_url=\"http://localhost:11434\"\n",
    "model='llama3.2:1b'\n",
    "\n",
    "from langchain_ollama import ChatOllama\n",
    "\n",
    "\n",
    "llm=ChatOllama(base_url=base_url,model=model)"
   ]
  },
  {
   "cell_type": "code",
   "execution_count": 5,
   "id": "91fd6723",
   "metadata": {},
   "outputs": [
    {
     "name": "stdout",
     "output_type": "stream",
     "text": [
      "Here's what I want you to know about our amazing planet:\n",
      "\n",
      " * Our Earth is a big ball of magic! It's round and has air that we breathe.\n",
      "* The Sun gives us light, warmth, and energy to make life on Earth possible. \n",
      "* We have oceans, forests, mountains, and lots of other cool things like rivers, lakes, and deserts that are home to many amazing creatures.\n"
     ]
    }
   ],
   "source": [
    "question=HumanMessage('Tell me about the earth in 3 points')\n",
    "system=SystemMessage('You are an elementary school teacher. YOu answer in short sentences.')\n",
    "\n",
    "messages=[system,question]\n",
    "response=llm.invoke(messages)\n",
    "\n",
    "print(response.content)"
   ]
  },
  {
   "cell_type": "code",
   "execution_count": 6,
   "id": "779384af",
   "metadata": {},
   "outputs": [
    {
     "name": "stdout",
     "output_type": "stream",
     "text": [
      "Here are three key points about the Earth:\n",
      "\n",
      "1. **Size and Composition**: The Earth is approximately 12,742 kilometers in diameter, with a radius of 6,371 kilometers. It's primarily composed of iron, oxygen, silicon, magnesium, and aluminum.\n",
      "\n",
      "2. **Atmosphere and Climate**: The Earth's atmosphere is mostly nitrogen (78%) and oxygen (21%), with trace amounts of other gases. This atmosphere traps heat, resulting in the planet's average temperature ranging from -89°C to 57°C (-129°F to 135°F).\n",
      "\n",
      "3. **Magnetic Field and Ocean Currents**: The Earth has a strong magnetic field that protects it from harmful solar radiation. At the same time, ocean currents play a crucial role in regulating the climate, transporting heat around the globe, and distributing nutrients throughout the world's oceans.\n"
     ]
    }
   ],
   "source": [
    "question=HumanMessage('Tell me about the earth in 3 points')\n",
    "system=SystemMessage('You are an PhD teacher. YOu answer in short sentences.')\n",
    "\n",
    "messages=[system,question]\n",
    "response=llm.invoke(messages)\n",
    "\n",
    "print(response.content)"
   ]
  },
  {
   "cell_type": "code",
   "execution_count": 22,
   "id": "af3e19e0",
   "metadata": {},
   "outputs": [],
   "source": [
    "from langchain_core.prompts import (SystemMessagePromptTemplate, HumanMessagePromptTemplate,PromptTemplate,ChatMessagePromptTemplate,ChatPromptTemplate)"
   ]
  },
  {
   "cell_type": "code",
   "execution_count": 8,
   "id": "cd2b1d63",
   "metadata": {},
   "outputs": [],
   "source": [
    "system=SystemMessagePromptTemplate.from_template('You are {school} teacher. You answer in short sentences.')\n",
    "question=HumanMessagePromptTemplate.from_template('Tell me about the {topics} in {points} points')\n"
   ]
  },
  {
   "cell_type": "code",
   "execution_count": 10,
   "id": "9d20d4f2",
   "metadata": {},
   "outputs": [
    {
     "data": {
      "text/plain": [
       "HumanMessagePromptTemplate(prompt=PromptTemplate(input_variables=['points', 'topics'], input_types={}, partial_variables={}, template='Tell me about the {topics} in {points} points'), additional_kwargs={})"
      ]
     },
     "execution_count": 10,
     "metadata": {},
     "output_type": "execute_result"
    }
   ],
   "source": [
    "system\n",
    "question"
   ]
  },
  {
   "cell_type": "code",
   "execution_count": 15,
   "id": "34ac1922",
   "metadata": {},
   "outputs": [
    {
     "data": {
      "text/plain": [
       "HumanMessage(content='Tell me about the sun in 5 points', additional_kwargs={}, response_metadata={})"
      ]
     },
     "execution_count": 15,
     "metadata": {},
     "output_type": "execute_result"
    }
   ],
   "source": [
    "question.format(topics='sun',points=5)"
   ]
  },
  {
   "cell_type": "code",
   "execution_count": 16,
   "id": "a747cabd",
   "metadata": {},
   "outputs": [
    {
     "data": {
      "text/plain": [
       "SystemMessage(content='You are elementary teacher. You answer in short sentences.', additional_kwargs={}, response_metadata={})"
      ]
     },
     "execution_count": 16,
     "metadata": {},
     "output_type": "execute_result"
    }
   ],
   "source": [
    "system.format(school='elementary')"
   ]
  },
  {
   "cell_type": "code",
   "execution_count": 23,
   "id": "53a5cdb7",
   "metadata": {},
   "outputs": [],
   "source": [
    "messages=[system,question]\n",
    "template=ChatPromptTemplate(messages)"
   ]
  },
  {
   "cell_type": "code",
   "execution_count": 26,
   "id": "2f96e5f2",
   "metadata": {},
   "outputs": [
    {
     "data": {
      "text/plain": [
       "ChatPromptValue(messages=[SystemMessage(content='You are elementary teacher. You answer in short sentences.', additional_kwargs={}, response_metadata={}), HumanMessage(content='Tell me about the earth in 3 points', additional_kwargs={}, response_metadata={})])"
      ]
     },
     "execution_count": 26,
     "metadata": {},
     "output_type": "execute_result"
    }
   ],
   "source": [
    "template.invoke({'school':'elementary','topics':'earth','points':3})"
   ]
  },
  {
   "cell_type": "code",
   "execution_count": 30,
   "id": "9cfe8f3a",
   "metadata": {},
   "outputs": [
    {
     "name": "stdout",
     "output_type": "stream",
     "text": [
      "Here are five key facts about the sun:\n",
      "\n",
      "* The sun is a massive ball of hot, glowing gas.\n",
      "* It's so big that it makes up almost all of our solar system's light and heat.\n",
      "* Our sun is about 93 million miles away from Earth.\n",
      "* The sun shines 24 hours a day, every day of the year.\n",
      "* If we didn't have the sun, life on Earth would not be possible.\n"
     ]
    }
   ],
   "source": [
    "question=template.invoke({'school':'elementary','topics':'sun','points':5})\n",
    "response=llm.invoke(question)\n",
    "print(response.content)"
   ]
  },
  {
   "cell_type": "code",
   "execution_count": null,
   "id": "f57883e9",
   "metadata": {},
   "outputs": [],
   "source": []
  }
 ],
 "metadata": {
  "kernelspec": {
   "display_name": "pytorch_env",
   "language": "python",
   "name": "python3"
  },
  "language_info": {
   "codemirror_mode": {
    "name": "ipython",
    "version": 3
   },
   "file_extension": ".py",
   "mimetype": "text/x-python",
   "name": "python",
   "nbconvert_exporter": "python",
   "pygments_lexer": "ipython3",
   "version": "3.9.21"
  }
 },
 "nbformat": 4,
 "nbformat_minor": 5
}
